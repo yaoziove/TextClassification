{
  "nbformat": 4,
  "nbformat_minor": 0,
  "metadata": {
    "accelerator": "GPU",
    "colab": {
      "name": "TextCls_6_DPCNN.ipynb",
      "provenance": [],
      "collapsed_sections": [],
      "include_colab_link": true
    },
    "kernelspec": {
      "display_name": "Python 3",
      "language": "python",
      "name": "python3"
    },
    "language_info": {
      "codemirror_mode": {
        "name": "ipython",
        "version": 3
      },
      "file_extension": ".py",
      "mimetype": "text/x-python",
      "name": "python",
      "nbconvert_exporter": "python",
      "pygments_lexer": "ipython3",
      "version": "3.7.0"
    }
  },
  "cells": [
    {
      "cell_type": "markdown",
      "metadata": {
        "id": "view-in-github",
        "colab_type": "text"
      },
      "source": [
        "<a href=\"https://colab.research.google.com/github/yaoziove/TextClassification/blob/master/TextCls_6_DPCNN.ipynb\" target=\"_parent\"><img src=\"https://colab.research.google.com/assets/colab-badge.svg\" alt=\"Open In Colab\"/></a>"
      ]
    },
    {
      "cell_type": "code",
      "metadata": {
        "colab_type": "code",
        "id": "wd2YUWs1i239",
        "outputId": "c1623cff-7da9-46d2-f8be-3d263f176d5d",
        "colab": {
          "base_uri": "https://localhost:8080/",
          "height": 33
        }
      },
      "source": [
        "!git clone https://github.com/yaoziove/TextClassification.git"
      ],
      "execution_count": 0,
      "outputs": [
        {
          "output_type": "stream",
          "text": [
            "fatal: destination path 'TextClassification' already exists and is not an empty directory.\n"
          ],
          "name": "stdout"
        }
      ]
    },
    {
      "cell_type": "code",
      "metadata": {
        "colab_type": "code",
        "id": "IRYNabVp3wQK",
        "outputId": "36fe91f4-e223-4ff5-b53c-8632697fe214",
        "colab": {
          "base_uri": "https://localhost:8080/",
          "height": 33
        }
      },
      "source": [
        "ls"
      ],
      "execution_count": 0,
      "outputs": [
        {
          "output_type": "stream",
          "text": [
            "\u001b[0m\u001b[01;34msample_data\u001b[0m/  \u001b[01;34mTextClassification\u001b[0m/\n"
          ],
          "name": "stdout"
        }
      ]
    },
    {
      "cell_type": "code",
      "metadata": {
        "colab_type": "code",
        "id": "xP01zY0730X9",
        "outputId": "e4f1d871-de81-466b-9569-ff6da05b3148",
        "colab": {
          "base_uri": "https://localhost:8080/",
          "height": 33
        }
      },
      "source": [
        "cd TextClassification/"
      ],
      "execution_count": 0,
      "outputs": [
        {
          "output_type": "stream",
          "text": [
            "/content/TextClassification\n"
          ],
          "name": "stdout"
        }
      ]
    },
    {
      "cell_type": "code",
      "metadata": {
        "colab_type": "code",
        "id": "1EDxl-T033gs",
        "outputId": "dbb59533-80a5-4601-a69b-18f3835decb9",
        "colab": {
          "base_uri": "https://localhost:8080/",
          "height": 33
        }
      },
      "source": [
        "ls"
      ],
      "execution_count": 0,
      "outputs": [
        {
          "output_type": "stream",
          "text": [
            "\u001b[0m\u001b[01;34mChinese-Text-Classification-Pytorch\u001b[0m/\n"
          ],
          "name": "stdout"
        }
      ]
    },
    {
      "cell_type": "code",
      "metadata": {
        "colab_type": "code",
        "id": "nGCaShnyG1YV",
        "outputId": "ecbd6b3c-4f2a-46df-d7a3-b067adbad577",
        "colab": {
          "base_uri": "https://localhost:8080/",
          "height": 33
        }
      },
      "source": [
        "cd Chinese-Text-Classification-Pytorch/"
      ],
      "execution_count": 0,
      "outputs": [
        {
          "output_type": "stream",
          "text": [
            "/content/TextClassification/Chinese-Text-Classification-Pytorch\n"
          ],
          "name": "stdout"
        }
      ]
    },
    {
      "cell_type": "code",
      "metadata": {
        "colab_type": "code",
        "id": "i1_QfNX5G1es",
        "outputId": "0f12d156-8b82-4f64-93a9-e591b074492d",
        "colab": {
          "base_uri": "https://localhost:8080/",
          "height": 33
        }
      },
      "source": [
        "ls"
      ],
      "execution_count": 0,
      "outputs": [
        {
          "output_type": "stream",
          "text": [
            "LICENSE  links.txt  \u001b[0m\u001b[01;34mmodels\u001b[0m/  README.md  run.py  \u001b[01;34mTHUCNews\u001b[0m/\n"
          ],
          "name": "stdout"
        }
      ]
    },
    {
      "cell_type": "markdown",
      "metadata": {
        "colab_type": "text",
        "id": "XYI3w2bO3_1X"
      },
      "source": [
        "#### 1.Utils\n",
        "data preprocess"
      ]
    },
    {
      "cell_type": "code",
      "metadata": {
        "colab_type": "code",
        "id": "h-Lxyq_b34ZW",
        "colab": {}
      },
      "source": [
        "import os\n",
        "import torch\n",
        "import numpy as np\n",
        "import pickle as pkl\n",
        "from tqdm import tqdm\n",
        "import time \n",
        "from datetime import timedelta\n",
        "\n",
        "MAX_VOCAB_SIZE = 10000   #词表长度限制\n",
        "UNK,PAD = '<UNK>','<PAD>' #未知字，padding字符\n",
        "\n",
        "def build_vocab(file_path,tokenizer,max_size,min_freq):\n",
        "  vocab_dic = {}\n",
        "  with open(file_path,\"r\",encoding=\"utf-8\") as f:\n",
        "    for line in tqdm(f):\n",
        "      line  = line.strip()\n",
        "      if not line:\n",
        "        continue\n",
        "      content = line.split('\\t')[0]\n",
        "      for word in tokenizer(content):\n",
        "        vocab_dic[word] = vocab_dic.get(word,0)+1\n",
        "    vocab_list = sorted([_ for _ in vocab_dic.items() if _[1]>=min_freq],key=lambda x:x[1],reverse=True)[:max_size]\n",
        "    vocab_dic = {word_count[0]:idx for idx,word_count in enumerate(vocab_list)}\n",
        "    vocab_dic.undate({UNK:len(vocab_dic),PAD:len(vocab_dic)+1})\n",
        "  return vocab_dic\n",
        "\n",
        "def build_dataset(config,ues_word):  #ues word 翻译为“词\"\n",
        "  if ues_word:\n",
        "    tokenizer = lambda x:x.split(' ')\n",
        "  else:\n",
        "    tokenizer = lambda x:[y for y in x] #char-leve\n",
        "\n",
        "  if os.path.exists(config.vocab_path):\n",
        "    vocab = pkl.load(open(config.vocab_path,'rb'))\n",
        "  else:\n",
        "    vocab = build_vocab(config.train_path,tokenizer=tokenizer,max_size=MAX_VOCAB_SIZE,min_freq=1)\n",
        "    pkl.dump(vocab,open(config.vocab_path,'wb'))\n",
        "  print(f\"Vocab size: {len(vocab)}\")\n",
        "\n",
        "  def load_dataset(path, pad_size=32):\n",
        "    contents = []\n",
        "    with open(path, 'r', encoding='UTF-8') as f:\n",
        "      for line in tqdm(f):\n",
        "        lin = line.strip()\n",
        "        if not lin:\n",
        "          continue\n",
        "        content, label = lin.split('\\t')\n",
        "        words_line = []\n",
        "        token = tokenizer(content)\n",
        "        seq_len = len(token)\n",
        "        if pad_size:\n",
        "          if len(token) < pad_size:\n",
        "            token.extend([PAD]*(pad_size-len(token)))\n",
        "          else:\n",
        "            token = token[:pad_size]\n",
        "            seq_len = pad_size\n",
        "        # word to id\n",
        "        for word in token:\n",
        "          words_line.append(vocab.get(word, vocab.get(UNK)))\n",
        "        contents.append((words_line, int(label), seq_len))\n",
        "    return contents\n",
        "  train = load_dataset(config.train_path, config.pad_size)\n",
        "  dev = load_dataset(config.dev_path, config.pad_size)\n",
        "  test = load_dataset(config.test_path, config.pad_size)\n",
        "  return vocab, train, dev, test\n",
        "\n",
        "class DatasetIterater(object):\n",
        "  def __init__(self, batches, batch_size, device):\n",
        "    self.batch_size = batch_size\n",
        "    self.batches = batches\n",
        "    self.n_batches = len(batches) // batch_size\n",
        "    self.residue = False  # 记录batch数量是否为整数\n",
        "    if len(batches) % self.n_batches != 0:\n",
        "        self.residue = True\n",
        "    self.index = 0\n",
        "    self.device = device\n",
        "\n",
        "  def _to_tensor(self, datas):\n",
        "    x = torch.LongTensor([_[0] for _ in datas]).to(self.device)\n",
        "    y = torch.LongTensor([_[1] for _ in datas]).to(self.device)\n",
        "\n",
        "    # pad前的长度(超过pad_size的设为pad_size)\n",
        "    seq_len = torch.LongTensor([_[2] for _ in datas]).to(self.device)\n",
        "    return (x,seq_len),y\n",
        "\n",
        "  def __next__(self):\n",
        "    if self.residue and self.index == self.n_batches:\n",
        "      batches = self.batches[self.index*self.batch_size:len(self.batches)]\n",
        "      self.index += 1\n",
        "      batches = self._to_tensor(batches)\n",
        "      return batches\n",
        "\n",
        "    elif self.index >= self.n_batches:\n",
        "      self.index = 0\n",
        "      raise StopIteration\n",
        "    else:\n",
        "      batches = self.batches[self.index*self.batch_size:(self.index+1)*self.batch_size]\n",
        "      self.index += 1\n",
        "      batches = self._to_tensor(batches)\n",
        "      return batches\n",
        "\n",
        "  def __iter__(self):\n",
        "    return self\n",
        "\n",
        "  def __len__(self):\n",
        "    if self.residue:\n",
        "      return self.n_batches + 1\n",
        "    else:\n",
        "      return self.n_batches\n",
        "\n",
        "def build_iterator(dataset, config):\n",
        "  iter_ = DatasetIterater(dataset, config.batch_size, config.device)\n",
        "  return iter_\n",
        "\n",
        "def get_time_dif(start_time):\n",
        "  \"\"\"获取已使用时间\"\"\"\n",
        "  end_time = time.time()\n",
        "  time_dif = end_time - start_time\n",
        "  return timedelta(seconds=int(round(time_dif)))"
      ],
      "execution_count": 0,
      "outputs": []
    },
    {
      "cell_type": "markdown",
      "metadata": {
        "colab_type": "text",
        "id": "i2EOPaF5DX8w"
      },
      "source": [
        "#### 2.Model 相关"
      ]
    },
    {
      "cell_type": "code",
      "metadata": {
        "colab_type": "code",
        "id": "oorG02kjvxXW",
        "colab": {}
      },
      "source": [
        "import torch\n",
        "import torch.nn as nn\n",
        "import torch.nn.functional as F\n",
        "import numpy as np\n",
        "\n",
        "class Config(object):\n",
        "  \"\"\"配置参数\"\"\"\n",
        "  def __init__(self,dataset,embedding):\n",
        "    self.model_name = 'DPCNN'\n",
        "    self.train_path = dataset + '/data/train.txt'    #训练街\n",
        "    self.dev_path = dataset + '/data/dev.txt'      #验证集\n",
        "    self.test_path = dataset + '/data/test.txt'        #测试集\n",
        "    self.class_list = [x.strip() for x in open(dataset+'/data/class.txt',encoding='utf-8').readlines()]  #类别列表\n",
        "    self.vocab_path = dataset + '/data/vocab.pkl'    #词表\n",
        "    self.save_path = dataset + '/' + self.model_name + '.ckpt'  #模型训练结果\n",
        "    self.log_path = dataset + '/log/' + self.model_name\n",
        "    self.embedding_pretrained = torch.tensor(np.load(dataset + '/data/'+ \n",
        "                    embedding)[\"embeddings\"].astype('float32')) if embedding != 'random' else None\n",
        "    self.device = torch.device('cuda' if torch.cuda.is_available() else 'cpu')\n",
        "\n",
        "    self.dropout = 0.5                    #随机失活\n",
        "    self.require_improvement = 1000             #若超过1000batch效果没提升，则提前结束\n",
        "    self.num_classes = len(self.class_list)         #类别数\n",
        "    self.n_vocab = 0                     #词表大小\n",
        "    self.num_epochs = 20                  #epoch数\n",
        "    self.batch_size = 128\n",
        "    self.pad_size = 32                    #每句话处理成的长度（短填长切）\n",
        "    self.learning_rate = 1e-3               \n",
        "    #字向量维度\n",
        "    self.embed = self.embedding_pretrained.size(1) if self.embedding_pretrained is not None else 300 \n",
        "    self.num_filters = 250              #卷积核数\n",
        "\n",
        "\n",
        "\"\"\"\n",
        "    DPCNN\n",
        "\"\"\"\n",
        "class Model(nn.Module):\n",
        "  def __init__(self,config):\n",
        "    super(Model,self).__init__()\n",
        "    if config.embedding_pretrained is not None:\n",
        "        self.embedding = nn.Embedding.from_pretrained(config.embedding_pretrained,freeze=False)\n",
        "    else:\n",
        "        self.embedding = nn.Embedding(config.n_vocab,config.embed,padding_idx=config.n_vocab - 1)\n",
        "\n",
        "    self.conv_region = nn.Conv2d(1,config.num_filters,(3,config.embed),stride=1)\n",
        "    self.conv = nn.Conv2d(config.num_filters,config.num_filters,(3,1),stride=1)\n",
        "    self.max_pool = nn.MaxPool2d(kernel_size=(3,1),stride=2)\n",
        "    self.padding1 = nn.ZeroPad2d((0,0,1,1))  # top bottom\n",
        "    self.padding2 = nn.ZeroPad2d((0,0,0,1))  # bottom\n",
        "    self.relu = nn.ReLU()\n",
        "    self.fc = nn.Linear(config.num_filters,config.num_classes)\n",
        "    self.dropout = nn.Dropout(config.dropout)\n",
        "      \n",
        "  \n",
        "  def forward(self,x):\n",
        "    x = x[0]\n",
        "    x = self.dropout(self.embedding(x))\n",
        "    x = x.unsqueeze(1)       #[batch_size,1,seq_len,embed_dim]\n",
        "    x = self.conv_region(x)  #[batch_size,250,seq_len-3+1,1]\n",
        "    \n",
        "    x = self.padding1(x)     #[batch_size,250,seq_len,1]\n",
        "    x = self.relu(x)\n",
        "    x = self.conv(x)         #[batch_size,250,seq_len-3+1,1]\n",
        "    x = self.padding1(x)     #[batch_size,250,seq_len,1]\n",
        "    x = self.relu(x)\n",
        "    x = self.conv(x)         #[batch_size,250,seq_len-3+1,1]\n",
        "    while x.size()[2] > 2:\n",
        "        x = self._block(x)\n",
        "    x = x.squeeze()          #[batch_size, num_filters(250)]\n",
        "    x = self.fc(x)\n",
        "    return x\n",
        "  \n",
        "  def _block(self, x):\n",
        "    x = self.padding2(x)\n",
        "    px = self.max_pool(x)\n",
        "\n",
        "    x = self.padding1(px)\n",
        "    x = F.relu(x)\n",
        "    x = self.conv(x)\n",
        "\n",
        "    x = self.padding1(x)\n",
        "    x = F.relu(x)\n",
        "    x = self.conv(x)\n",
        "\n",
        "    # Short Cut\n",
        "    x = x + px\n",
        "    return x"
      ],
      "execution_count": 0,
      "outputs": []
    },
    {
      "cell_type": "code",
      "metadata": {
        "colab_type": "code",
        "id": "9qSeGWT9Lbz_",
        "outputId": "2a618a92-7540-4dca-f825-cd32073d3109",
        "colab": {
          "base_uri": "https://localhost:8080/",
          "height": 316
        }
      },
      "source": [
        "import torch\n",
        "import torch.nn as nn\n",
        "import torch.nn.functional as F\n",
        "from torch.autograd import Variable\n",
        "\n",
        "        \n",
        "conv_region = nn.Conv2d(1,256,(3,300),stride=1)\n",
        "conv = nn.Conv2d(256,256,(3,1),stride=1)\n",
        "max_pool = nn.MaxPool2d(kernel_size=(3,1),stride=2)\n",
        "padding1 = nn.ZeroPad2d((0,0,1,1))  # top bottom\n",
        "padding2 = nn.ZeroPad2d((0,0,0,1))  # bottom\n",
        "relu = nn.ReLU()\n",
        "fc = nn.Linear(256,10)\n",
        "\n",
        "import numpy as np\n",
        "x =  torch.rand(64,32,300)\n",
        "print(f\"1 orig data after embed: {x.shape}\")\n",
        "x = x.unsqueeze(1)\n",
        "print(f\"2 orig data after unsqueeze: {x.shape}\")\n",
        "x = conv_region(x)\n",
        "print(f\"3 orig data after conv_region: {x.shape}\")\n",
        "x = padding1(x)\n",
        "print(f\"4 orig data after padding1: {x.shape}\")\n",
        "x = relu(x)\n",
        "print(f\"5 orig data after relu: {x.shape}\")\n",
        "x = conv(x)\n",
        "print(f\"6 orig data after conv_region: {x.shape}\")\n",
        "x = padding1(x)\n",
        "print(f\"7 orig data after padding1: {x.shape}\")\n",
        "x = relu(x)\n",
        "print(f\"8 orig data after relu: {x.shape}\")\n",
        "x = conv(x)\n",
        "print(f\"9 orig data after conv_region: {x.shape}\")\n",
        "\n",
        "print(\"---------------------------------------------------------------\")\n",
        "x = padding2(x)\n",
        "print(f\"10 orig data after padding2: {x.shape}\")\n",
        "\n",
        "px = max_pool(x)\n",
        "print(f\"11 orig data after max_pool__px: {px.shape}\")\n",
        "\n",
        "x = padding1(px)\n",
        "print(f\"12 orig data after padding1: {x.shape}\")\n",
        "x = F.relu(x)\n",
        "x = conv(x)\n",
        "print(f\"13 orig data after conv: {x.shape}\")\n",
        "\n",
        "x = padding1(x)\n",
        "print(f\"14 orig data after padding1: {x.shape}\")\n",
        "x = F.relu(x)\n",
        "x = conv(x)\n",
        "print(f\"15 orig data after conv: {x.shape}\")\n",
        "\n",
        "x = x+px\n",
        "print(f\"16 orig data after x + px: {x.shape}\")\n",
        "print(\"---------------------------------------------------------------\")"
      ],
      "execution_count": 0,
      "outputs": [
        {
          "output_type": "stream",
          "text": [
            "1 orig data after embed: torch.Size([64, 32, 300])\n",
            "2 orig data after unsqueeze: torch.Size([64, 1, 32, 300])\n",
            "3 orig data after conv_region: torch.Size([64, 256, 30, 1])\n",
            "4 orig data after padding1: torch.Size([64, 256, 32, 1])\n",
            "5 orig data after relu: torch.Size([64, 256, 32, 1])\n",
            "6 orig data after conv_region: torch.Size([64, 256, 30, 1])\n",
            "7 orig data after padding1: torch.Size([64, 256, 32, 1])\n",
            "8 orig data after relu: torch.Size([64, 256, 32, 1])\n",
            "9 orig data after conv_region: torch.Size([64, 256, 30, 1])\n",
            "---------------------------------------------------------------\n",
            "10 orig data after padding2: torch.Size([64, 256, 31, 1])\n",
            "11 orig data after max_pool__px: torch.Size([64, 256, 15, 1])\n",
            "12 orig data after padding1: torch.Size([64, 256, 17, 1])\n",
            "13 orig data after conv: torch.Size([64, 256, 15, 1])\n",
            "14 orig data after padding1: torch.Size([64, 256, 17, 1])\n",
            "15 orig data after conv: torch.Size([64, 256, 15, 1])\n",
            "16 orig data after x + px: torch.Size([64, 256, 15, 1])\n",
            "---------------------------------------------------------------\n"
          ],
          "name": "stdout"
        }
      ]
    },
    {
      "cell_type": "code",
      "metadata": {
        "colab_type": "code",
        "id": "DytR2Ii1dlQa",
        "outputId": "cb7c19d5-423b-47b7-fc8d-bf35389264d5",
        "colab": {
          "base_uri": "https://localhost:8080/",
          "height": 100
        }
      },
      "source": [
        "!pip install tensorboardX"
      ],
      "execution_count": 0,
      "outputs": [
        {
          "output_type": "stream",
          "text": [
            "Requirement already satisfied: tensorboardX in /usr/local/lib/python3.6/dist-packages (2.0)\n",
            "Requirement already satisfied: six in /usr/local/lib/python3.6/dist-packages (from tensorboardX) (1.12.0)\n",
            "Requirement already satisfied: numpy in /usr/local/lib/python3.6/dist-packages (from tensorboardX) (1.18.4)\n",
            "Requirement already satisfied: protobuf>=3.8.0 in /usr/local/lib/python3.6/dist-packages (from tensorboardX) (3.10.0)\n",
            "Requirement already satisfied: setuptools in /usr/local/lib/python3.6/dist-packages (from protobuf>=3.8.0->tensorboardX) (47.1.1)\n"
          ],
          "name": "stdout"
        }
      ]
    },
    {
      "cell_type": "markdown",
      "metadata": {
        "colab_type": "text",
        "id": "PO8gSPzLDcea"
      },
      "source": [
        "#### 3.train and eval"
      ]
    },
    {
      "cell_type": "code",
      "metadata": {
        "colab_type": "code",
        "id": "lGQMkeTK7pbk",
        "colab": {}
      },
      "source": [
        "import numpy as np\n",
        "import torch\n",
        "import torch.nn as nn\n",
        "import torch.nn.functional as F\n",
        "from sklearn import metrics\n",
        "import time\n",
        "from tensorboardX import SummaryWriter\n",
        "\n",
        "#权重初始化，默认Xavier\n",
        "def init_network(model,method='xavier',exclude='embedding',seed=123):\n",
        "  for name,w in model.named_parameters():\n",
        "    if exclude not in name:\n",
        "      if 'weight' in name:\n",
        "        if method == 'xavier':\n",
        "          nn.init.xavier_normal_(w)\n",
        "        elif method == 'kaiming':\n",
        "          nn.init.kaiming_normal_(w)\n",
        "        else:\n",
        "          nn.init.normal_(w)\n",
        "      elif 'bias' in name:\n",
        "        nn.init.constant_(w,0)\n",
        "      else:\n",
        "        pass\n",
        "\n",
        "def train(config,model,train_iter,dev_iter,test_iter):\n",
        "  start_time = time.time()\n",
        "  model.train()\n",
        "  optimizer = torch.optim.Adam(model.parameters(),lr=config.learning_rate)\n",
        "\n",
        "  #学习率指数衰减，每次epoch：学习率 = gamma * 学习率\n",
        "  #scheduler = torch.optim.lr_scheduler.ExponentialLR(optimizer, gamma=0.9)\n",
        "\n",
        "  total_batch = 0             #记录进行到多少batch \n",
        "  dev_best_loss = float('inf')      #验证集最好的loss、\n",
        "  last_improve = 0            #记录上次验证集loss下降的batch数\n",
        "  flag = False              #记录是否很久没有效果提升\n",
        "  writer = SummaryWriter(log_dir=config.log_path+'/'+time.strftime('%m-%d_%H.%M',time.localtime()))\n",
        "\n",
        "  for epoch in range(config.num_epochs):\n",
        "    print('Epoch [{}/{}]'.format(epoch+1,config.num_epochs))\n",
        "    #scheduler.step()           #学习率衰减\n",
        "\n",
        "    for i,(trains,labels) in enumerate(train_iter):\n",
        "      outputs = model(trains)\n",
        "      model.zero_grad()\n",
        "      loss = F.cross_entropy(outputs,labels)\n",
        "      loss.backward()\n",
        "      optimizer.step()\n",
        "\n",
        "      if total_batch % 100 == 0:\n",
        "        #每多少轮输出在训练集和验证集上的效果\n",
        "        true = labels.data.cpu()\n",
        "        predic = torch.max(outputs.data,1)[1].cpu()\n",
        "\n",
        "        train_acc = metrics.accuracy_score(true,predic)\n",
        "        dev_acc,dev_loss = evaluate(config,model,dev_iter)\n",
        "        if dev_loss < dev_best_loss:\n",
        "            dev_best_loss = dev_loss\n",
        "            torch.save(model.state_dict(),config.save_path)\n",
        "            improve = '*'\n",
        "            last_improve = total_batch\n",
        "        else:\n",
        "            improve = ''\n",
        "        time_dif = get_time_dif(start_time)\n",
        "        msg = 'Iter: {0:>6},  Train Loss: {1:>5.2},  Train Acc: {2:>6.2%},  Val Loss: {3:>5.2},  Val Acc: {4:>6.2%},  Time: {5} {6}'\n",
        "        print(msg.format(total_batch, loss.item(), train_acc, dev_loss, dev_acc, time_dif, improve))\n",
        "        writer.add_scalar(\"loss/train\", loss.item(), total_batch)\n",
        "        writer.add_scalar(\"loss/dev\", dev_loss, total_batch)\n",
        "        writer.add_scalar(\"acc/train\", train_acc, total_batch)\n",
        "        writer.add_scalar(\"acc/dev\", dev_acc, total_batch)\n",
        "        model.train()\n",
        "      total_batch += 1\n",
        "      if total_batch - last_improve > config.require_improvement:\n",
        "        # 验证集loss超过1000batch没下降，结束训练\n",
        "        print(\"No optimization for a long time, auto-stopping...\")\n",
        "        flag = True\n",
        "        break\n",
        "    if flag:\n",
        "        break\n",
        "  writer.close()\n",
        "  test(config,model,test_iter)\n",
        "\n",
        "def test(config,model,test_iter):\n",
        "  model.load_state_dict(torch.load(config.save_path))\n",
        "  model.eval()\n",
        "  start_tiem = time.time()\n",
        "  test_acc, test_loss, test_report, test_confusion = evaluate(config,model,test_iter,test=True)\n",
        "  msg = 'Test Loss: {0:>5.2},  Test Acc: {1:>6.2%}'\n",
        "  print(msg.format(test_loss, test_acc))\n",
        "  print(\"Precision, Recall and F1-Score...\")\n",
        "  print(test_report)\n",
        "  print(\"Confusion Matrix...\")\n",
        "  print(test_confusion)\n",
        "  time_dif = get_time_dif(start_time)\n",
        "  print(\"Time usage:\", time_dif)\n",
        "\n",
        "def evaluate(config,model,data_iter,test=False):\n",
        "  model.eval()\n",
        "  loss_total=0\n",
        "  predict_all = np.array([],dtype=int)\n",
        "  labels_all = np.array([],dtype=int)\n",
        "  with torch.no_grad():\n",
        "    for texts,labels in data_iter:\n",
        "      outputs = model(texts)\n",
        "      loss = F.cross_entropy(outputs, labels)\n",
        "      loss_total += loss.item()\n",
        "      labels = labels.data.cpu().numpy()\n",
        "      predic = torch.max(outputs.data,1)[1].cpu()\n",
        "      labels_all = np.append(labels_all,labels)\n",
        "      predict_all = np.append(predict_all,predic)\n",
        "\n",
        "  acc = metrics.accuracy_score(labels_all,predict_all)\n",
        "  if test:\n",
        "    report = metrics.classification_report(labels_all,predict_all,target_names=config.class_list,digits=4)\n",
        "    confusion = metrics.confusion_matrix(labels_all,predict_all)\n",
        "    return acc,loss_total / len(data_iter),report,confusion\n",
        "\n",
        "  return acc,loss_total / len(data_iter)\n"
      ],
      "execution_count": 0,
      "outputs": []
    },
    {
      "cell_type": "code",
      "metadata": {
        "colab_type": "code",
        "id": "DenvZrigODvR",
        "outputId": "14ff1272-307e-4a23-9b8a-3bd2772e9efb",
        "colab": {
          "base_uri": "https://localhost:8080/",
          "height": 50
        }
      },
      "source": [
        "'''提取预训练词向量'''\n",
        "train_dir = \"./THUCNews/data/train.txt\"\n",
        "vocab_dir = \"./THUCNews/data/vocab.pkl\"\n",
        "pretrain_dir = \"./THUCNews/data/sgns.sogou.word\"\n",
        "emb_dim = 300\n",
        "filename_trimmed_dir = \"./THUCNews/data/embedding_SougouNews.npz\"\n",
        "\n",
        "if os.path.exists(vocab_dir):\n",
        "  word_to_id = pkl.load(open(vocab_dir, 'rb'))\n",
        "else:\n",
        "  tokenizer = lambda x:[y for y in x]  #以字为单位构建词表\n",
        "  word_to_id = build_vocab(train_dir,tokenizer=tokenizer,max_size=MAX_VOCAB_SIZE,min_freq=1)\n",
        "  pkl.dump(word_to_id,open(vocab_dir,'wb'))\n",
        "\n",
        "print(f'shape of word_to_is is {len(word_to_id)}')\n",
        "\n",
        "#通过预训练的词向量来表示词表数据\n",
        "# embeddings = np.random.rand(len(word_to_id),emb_dim)\n",
        "# f = open(pretrain_dir, \"r\", encoding='UTF-8')\n",
        "# for i, line in enumerate(f.readlines()):\n",
        "#   if i == 0:  # 若第一行是标题，则跳过\n",
        "#     continue\n",
        "#   lin = line.strip().split(\" \")\n",
        "#   if lin[0] in word_to_id:\n",
        "#     idx = word_to_id[lin[0]]\n",
        "#     emb = [float(x) for x in lin[1:301]]\n",
        "#     embeddings[idx] = np.asarray(emb, dtype='float32')\n",
        "# f.close()\n",
        "# np.savez_compressed(filename_trimmed_dir, embeddings=embeddings)\n",
        "\n",
        "#载入通过预训练的到的词向量表示\n",
        "embeddings = np.load(filename_trimmed_dir)\n",
        "embeddings = embeddings[\"embeddings\"]\n",
        "print(f'shape of embedding vocab is : {embeddings.shape}')"
      ],
      "execution_count": 0,
      "outputs": [
        {
          "output_type": "stream",
          "text": [
            "shape of word_to_is is 4762\n",
            "shape of embedding vocab is : (4762, 300)\n"
          ],
          "name": "stdout"
        }
      ]
    },
    {
      "cell_type": "code",
      "metadata": {
        "colab_type": "code",
        "id": "TuaJjoAsRNnU",
        "outputId": "4e66b2ba-b6f9-4004-da22-b7ff249d17b6",
        "colab": {
          "base_uri": "https://localhost:8080/",
          "height": 116
        }
      },
      "source": [
        "dataset = 'THUCNews'\n",
        "embedding = 'embedding_SougouNews.npz'\n",
        "config = Config(dataset,embedding)\n",
        "\n",
        "np.random.seed(1)\n",
        "torch.manual_seed(1)\n",
        "torch.cuda.manual_seed_all(1)\n",
        "torch.backends.cudnn.deterministic = True  # 保证每次结果一样\n",
        "\n",
        "start_time = time.time()\n",
        "print(\"Loading data...\")\n",
        "\n",
        "vocab,train_data,dev_data,test_data = build_dataset(config,False)\n",
        "train_iter = build_iterator(train_data, config)\n",
        "dev_iter = build_iterator(dev_data, config)\n",
        "test_iter = build_iterator(test_data, config)\n",
        "time_dif = get_time_dif(start_time)\n",
        "print(\"Time usage:\", time_dif)"
      ],
      "execution_count": 0,
      "outputs": [
        {
          "output_type": "stream",
          "text": [
            "\r0it [00:00, ?it/s]"
          ],
          "name": "stderr"
        },
        {
          "output_type": "stream",
          "text": [
            "Loading data...\n",
            "Vocab size: 4762\n"
          ],
          "name": "stdout"
        },
        {
          "output_type": "stream",
          "text": [
            "180000it [00:03, 58850.59it/s]\n",
            "10000it [00:00, 65334.69it/s]\n",
            "10000it [00:00, 67072.05it/s]"
          ],
          "name": "stderr"
        },
        {
          "output_type": "stream",
          "text": [
            "Time usage: 0:00:03\n"
          ],
          "name": "stdout"
        },
        {
          "output_type": "stream",
          "text": [
            "\n"
          ],
          "name": "stderr"
        }
      ]
    },
    {
      "cell_type": "code",
      "metadata": {
        "colab_type": "code",
        "id": "FivUvcxHgDwB",
        "outputId": "1a7fa9c2-53d3-403d-ba56-7692902239e7",
        "colab": {
          "base_uri": "https://localhost:8080/",
          "height": 1000
        }
      },
      "source": [
        "#train\n",
        "config.n_vocab = len(vocab)\n",
        "\n",
        "model = Model(config).to(config.device)\n",
        "init_network(model)\n",
        "print(model.parameters)\n",
        "train(config,model,train_iter,dev_iter,test_iter)"
      ],
      "execution_count": 0,
      "outputs": [
        {
          "output_type": "stream",
          "text": [
            "<bound method Module.parameters of Model(\n",
            "  (embedding): Embedding(4762, 300)\n",
            "  (conv_region): Conv2d(1, 250, kernel_size=(3, 300), stride=(1, 1))\n",
            "  (conv): Conv2d(250, 250, kernel_size=(3, 1), stride=(1, 1))\n",
            "  (max_pool): MaxPool2d(kernel_size=(3, 1), stride=2, padding=0, dilation=1, ceil_mode=False)\n",
            "  (padding1): ZeroPad2d(padding=(0, 0, 1, 1), value=0.0)\n",
            "  (padding2): ZeroPad2d(padding=(0, 0, 0, 1), value=0.0)\n",
            "  (relu): ReLU()\n",
            "  (fc): Linear(in_features=250, out_features=10, bias=True)\n",
            "  (dropout): Dropout(p=0.5, inplace=False)\n",
            ")>\n",
            "Epoch [1/20]\n",
            "Iter:      0,  Train Loss:   2.3,  Train Acc:  7.81%,  Val Loss:   2.6,  Val Acc: 10.00%,  Time: 0:00:01 *\n",
            "Iter:    100,  Train Loss:  0.84,  Train Acc: 67.97%,  Val Loss:  0.79,  Val Acc: 72.79%,  Time: 0:00:06 *\n",
            "Iter:    200,  Train Loss:  0.74,  Train Acc: 77.34%,  Val Loss:  0.56,  Val Acc: 81.97%,  Time: 0:00:11 *\n",
            "Iter:    300,  Train Loss:  0.45,  Train Acc: 85.94%,  Val Loss:  0.53,  Val Acc: 83.32%,  Time: 0:00:16 *\n",
            "Iter:    400,  Train Loss:  0.59,  Train Acc: 80.47%,  Val Loss:  0.51,  Val Acc: 84.06%,  Time: 0:00:21 *\n",
            "Iter:    500,  Train Loss:  0.49,  Train Acc: 85.94%,  Val Loss:  0.47,  Val Acc: 85.31%,  Time: 0:00:26 *\n",
            "Iter:    600,  Train Loss:  0.56,  Train Acc: 81.25%,  Val Loss:  0.45,  Val Acc: 85.63%,  Time: 0:00:32 *\n",
            "Iter:    700,  Train Loss:  0.45,  Train Acc: 84.38%,  Val Loss:  0.44,  Val Acc: 85.72%,  Time: 0:00:37 *\n",
            "Iter:    800,  Train Loss:  0.37,  Train Acc: 89.84%,  Val Loss:  0.41,  Val Acc: 87.14%,  Time: 0:00:42 *\n",
            "Iter:    900,  Train Loss:  0.46,  Train Acc: 87.50%,  Val Loss:  0.38,  Val Acc: 87.75%,  Time: 0:00:47 *\n",
            "Iter:   1000,  Train Loss:  0.31,  Train Acc: 85.94%,  Val Loss:  0.39,  Val Acc: 87.63%,  Time: 0:00:52 \n",
            "Iter:   1100,  Train Loss:  0.34,  Train Acc: 87.50%,  Val Loss:  0.37,  Val Acc: 87.89%,  Time: 0:00:57 *\n",
            "Iter:   1200,  Train Loss:  0.41,  Train Acc: 89.06%,  Val Loss:  0.38,  Val Acc: 88.04%,  Time: 0:01:02 \n",
            "Iter:   1300,  Train Loss:  0.46,  Train Acc: 85.94%,  Val Loss:  0.35,  Val Acc: 89.10%,  Time: 0:01:07 *\n",
            "Iter:   1400,  Train Loss:  0.49,  Train Acc: 82.03%,  Val Loss:  0.35,  Val Acc: 89.01%,  Time: 0:01:13 *\n",
            "Epoch [2/20]\n",
            "Iter:   1500,  Train Loss:  0.39,  Train Acc: 88.28%,  Val Loss:  0.36,  Val Acc: 88.78%,  Time: 0:01:18 \n",
            "Iter:   1600,  Train Loss:  0.42,  Train Acc: 85.16%,  Val Loss:  0.39,  Val Acc: 88.06%,  Time: 0:01:23 \n",
            "Iter:   1700,  Train Loss:  0.41,  Train Acc: 88.28%,  Val Loss:  0.36,  Val Acc: 88.51%,  Time: 0:01:28 \n",
            "Iter:   1800,  Train Loss:  0.29,  Train Acc: 91.41%,  Val Loss:  0.35,  Val Acc: 88.97%,  Time: 0:01:33 \n",
            "Iter:   1900,  Train Loss:  0.38,  Train Acc: 86.72%,  Val Loss:  0.34,  Val Acc: 89.46%,  Time: 0:01:38 *\n",
            "Iter:   2000,  Train Loss:  0.37,  Train Acc: 85.16%,  Val Loss:  0.34,  Val Acc: 89.24%,  Time: 0:01:43 \n",
            "Iter:   2100,  Train Loss:  0.34,  Train Acc: 89.84%,  Val Loss:  0.32,  Val Acc: 89.69%,  Time: 0:01:48 *\n",
            "Iter:   2200,  Train Loss:  0.29,  Train Acc: 89.84%,  Val Loss:  0.33,  Val Acc: 89.75%,  Time: 0:01:54 \n",
            "Iter:   2300,  Train Loss:  0.23,  Train Acc: 92.19%,  Val Loss:  0.32,  Val Acc: 89.96%,  Time: 0:01:59 \n",
            "Iter:   2400,  Train Loss:  0.25,  Train Acc: 91.41%,  Val Loss:  0.36,  Val Acc: 88.64%,  Time: 0:02:04 \n",
            "Iter:   2500,  Train Loss:  0.23,  Train Acc: 92.97%,  Val Loss:  0.33,  Val Acc: 89.27%,  Time: 0:02:09 \n",
            "Iter:   2600,  Train Loss:  0.32,  Train Acc: 89.84%,  Val Loss:  0.32,  Val Acc: 89.71%,  Time: 0:02:14 *\n",
            "Iter:   2700,  Train Loss:  0.27,  Train Acc: 89.06%,  Val Loss:   0.3,  Val Acc: 90.43%,  Time: 0:02:19 *\n",
            "Iter:   2800,  Train Loss:  0.44,  Train Acc: 86.72%,  Val Loss:  0.31,  Val Acc: 89.98%,  Time: 0:02:24 \n",
            "Epoch [3/20]\n",
            "Iter:   2900,  Train Loss:  0.37,  Train Acc: 89.06%,  Val Loss:   0.3,  Val Acc: 90.56%,  Time: 0:02:29 \n",
            "Iter:   3000,  Train Loss:  0.31,  Train Acc: 88.28%,  Val Loss:   0.3,  Val Acc: 90.42%,  Time: 0:02:35 *\n",
            "Iter:   3100,  Train Loss:  0.28,  Train Acc: 90.62%,  Val Loss:  0.31,  Val Acc: 90.16%,  Time: 0:02:40 \n",
            "Iter:   3200,  Train Loss:  0.44,  Train Acc: 88.28%,  Val Loss:  0.31,  Val Acc: 90.41%,  Time: 0:02:45 \n",
            "Iter:   3300,  Train Loss:  0.34,  Train Acc: 90.62%,  Val Loss:   0.3,  Val Acc: 90.58%,  Time: 0:02:50 \n",
            "Iter:   3400,  Train Loss:  0.39,  Train Acc: 89.06%,  Val Loss:   0.3,  Val Acc: 90.19%,  Time: 0:02:55 *\n",
            "Iter:   3500,  Train Loss:  0.21,  Train Acc: 92.97%,  Val Loss:   0.3,  Val Acc: 90.31%,  Time: 0:03:00 \n",
            "Iter:   3600,  Train Loss:  0.14,  Train Acc: 95.31%,  Val Loss:  0.31,  Val Acc: 90.43%,  Time: 0:03:05 \n",
            "Iter:   3700,  Train Loss:  0.39,  Train Acc: 85.16%,  Val Loss:   0.3,  Val Acc: 90.82%,  Time: 0:03:11 *\n",
            "Iter:   3800,  Train Loss:  0.28,  Train Acc: 89.06%,  Val Loss:   0.3,  Val Acc: 90.49%,  Time: 0:03:16 \n",
            "Iter:   3900,  Train Loss:  0.28,  Train Acc: 89.84%,  Val Loss:  0.29,  Val Acc: 90.83%,  Time: 0:03:21 *\n",
            "Iter:   4000,  Train Loss:  0.27,  Train Acc: 92.19%,  Val Loss:   0.3,  Val Acc: 90.60%,  Time: 0:03:26 \n",
            "Iter:   4100,  Train Loss:  0.32,  Train Acc: 91.41%,  Val Loss:  0.29,  Val Acc: 90.55%,  Time: 0:03:31 \n",
            "Iter:   4200,  Train Loss:  0.25,  Train Acc: 90.62%,  Val Loss:  0.29,  Val Acc: 90.89%,  Time: 0:03:36 *\n",
            "Epoch [4/20]\n",
            "Iter:   4300,  Train Loss:  0.21,  Train Acc: 90.62%,  Val Loss:  0.28,  Val Acc: 91.02%,  Time: 0:03:41 *\n",
            "Iter:   4400,  Train Loss:  0.18,  Train Acc: 96.88%,  Val Loss:  0.29,  Val Acc: 90.80%,  Time: 0:03:46 \n",
            "Iter:   4500,  Train Loss:  0.36,  Train Acc: 89.84%,  Val Loss:  0.28,  Val Acc: 91.16%,  Time: 0:03:52 *\n",
            "Iter:   4600,  Train Loss:  0.21,  Train Acc: 94.53%,  Val Loss:  0.29,  Val Acc: 90.69%,  Time: 0:03:57 \n",
            "Iter:   4700,  Train Loss:  0.41,  Train Acc: 89.06%,  Val Loss:  0.28,  Val Acc: 91.30%,  Time: 0:04:02 *\n",
            "Iter:   4800,  Train Loss:  0.12,  Train Acc: 96.09%,  Val Loss:  0.29,  Val Acc: 90.73%,  Time: 0:04:07 \n",
            "Iter:   4900,  Train Loss:  0.19,  Train Acc: 92.97%,  Val Loss:  0.28,  Val Acc: 91.15%,  Time: 0:04:12 \n",
            "Iter:   5000,  Train Loss:  0.22,  Train Acc: 89.84%,  Val Loss:  0.32,  Val Acc: 90.43%,  Time: 0:04:17 \n",
            "Iter:   5100,  Train Loss:  0.29,  Train Acc: 90.62%,  Val Loss:  0.29,  Val Acc: 91.02%,  Time: 0:04:22 \n",
            "Iter:   5200,  Train Loss:  0.38,  Train Acc: 89.06%,  Val Loss:  0.28,  Val Acc: 91.12%,  Time: 0:04:27 \n",
            "Iter:   5300,  Train Loss:  0.22,  Train Acc: 92.19%,  Val Loss:  0.28,  Val Acc: 91.25%,  Time: 0:04:33 *\n",
            "Iter:   5400,  Train Loss:   0.4,  Train Acc: 85.16%,  Val Loss:  0.28,  Val Acc: 90.82%,  Time: 0:04:38 \n",
            "Iter:   5500,  Train Loss:  0.21,  Train Acc: 90.62%,  Val Loss:  0.28,  Val Acc: 91.16%,  Time: 0:04:43 \n",
            "Iter:   5600,  Train Loss:  0.17,  Train Acc: 93.75%,  Val Loss:  0.29,  Val Acc: 90.83%,  Time: 0:04:48 \n",
            "Epoch [5/20]\n",
            "Iter:   5700,  Train Loss:  0.29,  Train Acc: 88.28%,  Val Loss:  0.28,  Val Acc: 91.44%,  Time: 0:04:53 \n",
            "Iter:   5800,  Train Loss:  0.22,  Train Acc: 92.19%,  Val Loss:  0.29,  Val Acc: 90.65%,  Time: 0:04:58 \n",
            "Iter:   5900,  Train Loss:  0.17,  Train Acc: 97.66%,  Val Loss:  0.28,  Val Acc: 91.23%,  Time: 0:05:03 \n",
            "Iter:   6000,  Train Loss:  0.26,  Train Acc: 89.06%,  Val Loss:  0.28,  Val Acc: 91.16%,  Time: 0:05:08 \n",
            "Iter:   6100,  Train Loss:  0.32,  Train Acc: 91.41%,  Val Loss:  0.29,  Val Acc: 91.08%,  Time: 0:05:14 \n",
            "Iter:   6200,  Train Loss:  0.17,  Train Acc: 94.53%,  Val Loss:  0.29,  Val Acc: 90.92%,  Time: 0:05:19 \n",
            "Iter:   6300,  Train Loss:  0.18,  Train Acc: 94.53%,  Val Loss:  0.29,  Val Acc: 91.33%,  Time: 0:05:24 \n",
            "No optimization for a long time, auto-stopping...\n",
            "Test Loss:  0.27,  Test Acc: 91.66%\n",
            "Precision, Recall and F1-Score...\n",
            "               precision    recall  f1-score   support\n",
            "\n",
            "      finance     0.9323    0.8820    0.9065      1000\n",
            "       realty     0.9510    0.9120    0.9311      1000\n",
            "       stocks     0.8205    0.8870    0.8525      1000\n",
            "    education     0.9400    0.9560    0.9479      1000\n",
            "      science     0.8912    0.8520    0.8712      1000\n",
            "      society     0.8969    0.9310    0.9136      1000\n",
            "     politics     0.8922    0.9020    0.8971      1000\n",
            "       sports     0.9928    0.9600    0.9761      1000\n",
            "         game     0.9378    0.9350    0.9364      1000\n",
            "entertainment     0.9232    0.9490    0.9359      1000\n",
            "\n",
            "     accuracy                         0.9166     10000\n",
            "    macro avg     0.9178    0.9166    0.9168     10000\n",
            " weighted avg     0.9178    0.9166    0.9168     10000\n",
            "\n",
            "Confusion Matrix...\n",
            "[[882  12  69   4   7  13   7   1   3   2]\n",
            " [ 12 912  31   3   6  17   7   2   2   8]\n",
            " [ 34  10 887   3  27   2  31   0   4   2]\n",
            " [  1   2   0 956   2  19   7   1   1  11]\n",
            " [  3   4  41   9 852  19  20   1  39  12]\n",
            " [  1   7   6  15   4 931  24   0   3   9]\n",
            " [  8   3  30   9  18  22 902   0   2   6]\n",
            " [  2   2   3   2   3   3   6 960   1  18]\n",
            " [  2   1   9   3  33   2   3   1 935  11]\n",
            " [  1   6   5  13   4  10   4   1   7 949]]\n",
            "Time usage: 0:05:30\n"
          ],
          "name": "stdout"
        }
      ]
    },
    {
      "cell_type": "code",
      "metadata": {
        "colab_type": "code",
        "id": "CxyhL5wb58NY",
        "outputId": "da907c75-edae-42d2-8da2-7ab33ad6e6d2",
        "colab": {
          "base_uri": "https://localhost:8080/",
          "height": 200
        }
      },
      "source": [
        "model"
      ],
      "execution_count": 0,
      "outputs": [
        {
          "output_type": "execute_result",
          "data": {
            "text/plain": [
              "Model(\n",
              "  (embedding): Embedding(4762, 300)\n",
              "  (conv_region): Conv2d(1, 250, kernel_size=(3, 300), stride=(1, 1))\n",
              "  (conv): Conv2d(250, 250, kernel_size=(3, 1), stride=(1, 1))\n",
              "  (max_pool): MaxPool2d(kernel_size=(3, 1), stride=2, padding=0, dilation=1, ceil_mode=False)\n",
              "  (padding1): ZeroPad2d(padding=(0, 0, 1, 1), value=0.0)\n",
              "  (padding2): ZeroPad2d(padding=(0, 0, 0, 1), value=0.0)\n",
              "  (relu): ReLU()\n",
              "  (fc): Linear(in_features=250, out_features=10, bias=True)\n",
              "  (dropout): Dropout(p=0.5, inplace=False)\n",
              ")"
            ]
          },
          "metadata": {
            "tags": []
          },
          "execution_count": 15
        }
      ]
    },
    {
      "cell_type": "code",
      "metadata": {
        "id": "kHJdifNBQp2l",
        "colab_type": "code",
        "colab": {}
      },
      "source": [
        ""
      ],
      "execution_count": 0,
      "outputs": []
    }
  ]
}