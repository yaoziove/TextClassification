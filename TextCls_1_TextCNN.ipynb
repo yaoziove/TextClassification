{
  "nbformat": 4,
  "nbformat_minor": 0,
  "metadata": {
    "colab": {
      "name": "TextCls_1_TextCNN.ipynb",
      "provenance": [],
      "collapsed_sections": [],
      "authorship_tag": "ABX9TyNBO1oMUUOKJM67f2GGr/na",
      "include_colab_link": true
    },
    "kernelspec": {
      "name": "python3",
      "display_name": "Python 3"
    },
    "accelerator": "GPU"
  },
  "cells": [
    {
      "cell_type": "markdown",
      "metadata": {
        "id": "view-in-github",
        "colab_type": "text"
      },
      "source": [
        "<a href=\"https://colab.research.google.com/github/yaoziove/TextClassification/blob/master/TextCls_1_TextCNN.ipynb\" target=\"_parent\"><img src=\"https://colab.research.google.com/assets/colab-badge.svg\" alt=\"Open In Colab\"/></a>"
      ]
    },
    {
      "cell_type": "code",
      "metadata": {
        "id": "wd2YUWs1i239",
        "colab_type": "code",
        "outputId": "0c4725e3-ec2a-425e-8076-868fdff384f0",
        "colab": {
          "base_uri": "https://localhost:8080/",
          "height": 116
        }
      },
      "source": [
        "!git clone https://github.com/yaoziove/TextClassification.git"
      ],
      "execution_count": 0,
      "outputs": [
        {
          "output_type": "stream",
          "text": [
            "Cloning into 'TextClassification'...\n",
            "remote: Enumerating objects: 24, done.\u001b[K\n",
            "remote: Counting objects: 100% (24/24), done.\u001b[K\n",
            "remote: Compressing objects: 100% (23/23), done.\u001b[K\n",
            "remote: Total 24 (delta 5), reused 0 (delta 0), pack-reused 0\u001b[K\n",
            "Unpacking objects: 100% (24/24), done.\n"
          ],
          "name": "stdout"
        }
      ]
    },
    {
      "cell_type": "code",
      "metadata": {
        "id": "IRYNabVp3wQK",
        "colab_type": "code",
        "outputId": "651631a3-a6aa-4a1d-de2c-9f1430a83fa4",
        "colab": {
          "base_uri": "https://localhost:8080/",
          "height": 33
        }
      },
      "source": [
        "ls"
      ],
      "execution_count": 0,
      "outputs": [
        {
          "output_type": "stream",
          "text": [
            "LICENSE  links.txt  \u001b[0m\u001b[01;34mmodels\u001b[0m/  README.md  run.py  \u001b[01;34mTextClassification\u001b[0m/  \u001b[01;34mTHUCNews\u001b[0m/\n"
          ],
          "name": "stdout"
        }
      ]
    },
    {
      "cell_type": "code",
      "metadata": {
        "id": "xP01zY0730X9",
        "colab_type": "code",
        "outputId": "94d81d24-adfb-433e-ddb7-df1828211359",
        "colab": {
          "base_uri": "https://localhost:8080/",
          "height": 53
        }
      },
      "source": [
        "cd TextClassification/"
      ],
      "execution_count": 0,
      "outputs": [
        {
          "output_type": "stream",
          "text": [
            "/content/TextClassification/Chinese-Text-Classification-Pytorch/TextClassification/Chinese-Text-Classification-Pytorch/TextClassification\n"
          ],
          "name": "stdout"
        }
      ]
    },
    {
      "cell_type": "code",
      "metadata": {
        "id": "1EDxl-T033gs",
        "colab_type": "code",
        "outputId": "79d64b72-cf16-4ba7-8b7a-d3cf0f78ede4",
        "colab": {
          "base_uri": "https://localhost:8080/",
          "height": 33
        }
      },
      "source": [
        "ls"
      ],
      "execution_count": 0,
      "outputs": [
        {
          "output_type": "stream",
          "text": [
            "\u001b[0m\u001b[01;34mChinese-Text-Classification-Pytorch\u001b[0m/\n"
          ],
          "name": "stdout"
        }
      ]
    },
    {
      "cell_type": "code",
      "metadata": {
        "id": "nGCaShnyG1YV",
        "colab_type": "code",
        "outputId": "1c7cce62-44dd-4efe-a7ad-c872e949c289",
        "colab": {
          "base_uri": "https://localhost:8080/",
          "height": 53
        }
      },
      "source": [
        "cd Chinese-Text-Classification-Pytorch/"
      ],
      "execution_count": 0,
      "outputs": [
        {
          "output_type": "stream",
          "text": [
            "/content/TextClassification/Chinese-Text-Classification-Pytorch/TextClassification/Chinese-Text-Classification-Pytorch/TextClassification/Chinese-Text-Classification-Pytorch\n"
          ],
          "name": "stdout"
        }
      ]
    },
    {
      "cell_type": "code",
      "metadata": {
        "id": "i1_QfNX5G1es",
        "colab_type": "code",
        "outputId": "96c73623-6ca0-4cc8-b809-9f966fee49cd",
        "colab": {
          "base_uri": "https://localhost:8080/",
          "height": 33
        }
      },
      "source": [
        "ls"
      ],
      "execution_count": 0,
      "outputs": [
        {
          "output_type": "stream",
          "text": [
            "LICENSE  links.txt  \u001b[0m\u001b[01;34mmodels\u001b[0m/  README.md  run.py  \u001b[01;34mTHUCNews\u001b[0m/\n"
          ],
          "name": "stdout"
        }
      ]
    },
    {
      "cell_type": "markdown",
      "metadata": {
        "id": "XYI3w2bO3_1X",
        "colab_type": "text"
      },
      "source": [
        "#### 1.Utils\n",
        "data preprocess"
      ]
    },
    {
      "cell_type": "code",
      "metadata": {
        "id": "h-Lxyq_b34ZW",
        "colab_type": "code",
        "colab": {}
      },
      "source": [
        "import os\n",
        "import torch\n",
        "import numpy as np\n",
        "import pickle as pkl\n",
        "from tqdm import tqdm\n",
        "import time \n",
        "from datetime import timedelta\n",
        "\n",
        "MAX_VOCAB_SIZE = 10000   #词表长度限制\n",
        "UNK,PAD = '<UNK>','<PAD>' #未知字，padding字符\n",
        "\n",
        "def build_vocab(file_path,tokenizer,max_size,min_freq):\n",
        "  vocab_dic = {}\n",
        "  with open(file_path,\"r\",encoding=\"utf-8\") as f:\n",
        "    for line in tqdm(f):\n",
        "      line  = line.strip()\n",
        "      if not line:\n",
        "        continue\n",
        "      content = line.split('\\t')[0]\n",
        "      for word in tokenizer(content):\n",
        "        vocab_dic[word] = vocab_dic.get(word,0)+1\n",
        "    vocab_list = sorted([_ for _ in vocab_dic.items() if _[1]>=min_freq],key=lambda x:x[1],reverse=True)[:max_size]\n",
        "    vocab_dic = {word_count[0]:idx for idx,word_count in enumerate(vocab_list)}\n",
        "    vocab_dic.undate({UNK:len(vocab_dic),PAD:len(vocab_dic)+1})\n",
        "  return vocab_dic\n",
        "\n",
        "def build_dataset(config,ues_word):  #ues word 翻译为“词\"\n",
        "  if ues_word:\n",
        "    tokenizer = lambda x:x.split(' ')\n",
        "  else:\n",
        "    tokenizer = lambda x:[y for y in x] #char-leve\n",
        "  \n",
        "  if os.path.exists(config.vocab_path):\n",
        "    vocab = pkl.load(open(config.vocab_path,'rb'))\n",
        "  else:\n",
        "    vocab = build_vocab(config.train_path,tokenizer=tokenizer,max_size=MAX_VOCAB_SIZE,min_freq=1)\n",
        "    pkl.dump(vocab,open(config.vocab_path,'wb'))\n",
        "  print(f\"Vocab size: {len(vocab)}\")\n",
        "\n",
        "  def load_dataset(path, pad_size=32):\n",
        "    contents = []\n",
        "    with open(path, 'r', encoding='UTF-8') as f:\n",
        "      for line in tqdm(f):\n",
        "        lin = line.strip()\n",
        "        if not lin:\n",
        "          continue\n",
        "        content, label = lin.split('\\t')\n",
        "        words_line = []\n",
        "        token = tokenizer(content)\n",
        "        seq_len = len(token)\n",
        "        if pad_size:\n",
        "          if len(token) < pad_size:\n",
        "            token.extend([PAD]*(pad_size-len(token)))\n",
        "          else:\n",
        "            token = token[:pad_size]\n",
        "            seq_len = pad_size\n",
        "        # word to id\n",
        "        for word in token:\n",
        "          words_line.append(vocab.get(word, vocab.get(UNK)))\n",
        "        contents.append((words_line, int(label), seq_len))\n",
        "    return contents\n",
        "  train = load_dataset(config.train_path, config.pad_size)\n",
        "  dev = load_dataset(config.dev_path, config.pad_size)\n",
        "  test = load_dataset(config.test_path, config.pad_size)\n",
        "  return vocab, train, dev, test\n",
        "\n",
        "class DatasetIterater(object):\n",
        "  def __init__(self, batches, batch_size, device):\n",
        "    self.batch_size = batch_size\n",
        "    self.batches = batches\n",
        "    self.n_batches = len(batches) // batch_size\n",
        "    self.residue = False  # 记录batch数量是否为整数\n",
        "    if len(batches) % self.n_batches != 0:\n",
        "      self.residue = True\n",
        "    self.index = 0\n",
        "    self.device = device\n",
        "\n",
        "  def _to_tensor(self, datas):\n",
        "    x = torch.LongTensor([_[0] for _ in datas]).to(self.device)\n",
        "    y = torch.LongTensor([_[1] for _ in datas]).to(self.device)\n",
        "\n",
        "    # pad前的长度(超过pad_size的设为pad_size)\n",
        "    seq_len = torch.LongTensor([_[2] for _ in datas]).to(self.device)\n",
        "    return (x,seq_len),y\n",
        "\n",
        "  def __next__(self):\n",
        "    if self.residue and self.index == self.n_batches:\n",
        "      batches = self.batches[self.index*self.batch_size:len(self.batches)]\n",
        "      self.index += 1\n",
        "      batches = self._to_tensor(batches)\n",
        "      return batches\n",
        "\n",
        "    elif self.index >= self.n_batches:\n",
        "      self.index = 0\n",
        "      raise StopIteration\n",
        "    else:\n",
        "      batches = self.batches[self.index*self.batch_size:(self.index+1)*self.batch_size]\n",
        "      self.index += 1\n",
        "      batches = self._to_tensor(batches)\n",
        "      return batches\n",
        "\n",
        "  def __iter__(self):\n",
        "    return self\n",
        "\n",
        "  def __len__(self):\n",
        "    if self.residue:\n",
        "      return self.n_batches + 1\n",
        "    else:\n",
        "      return self.n_batches\n",
        "\n",
        "def build_iterator(dataset, config):\n",
        "  iter_ = DatasetIterater(dataset, config.batch_size, config.device)\n",
        "  return iter_\n",
        "\n",
        "def get_time_dif(start_time):\n",
        "  \"\"\"获取已使用时间\"\"\"\n",
        "  end_time = time.time()\n",
        "  time_dif = end_time - start_time\n",
        "  return timedelta(seconds=int(round(time_dif)))"
      ],
      "execution_count": 0,
      "outputs": []
    },
    {
      "cell_type": "markdown",
      "metadata": {
        "id": "i2EOPaF5DX8w",
        "colab_type": "text"
      },
      "source": [
        "#### 2.Model 相关"
      ]
    },
    {
      "cell_type": "code",
      "metadata": {
        "id": "oorG02kjvxXW",
        "colab_type": "code",
        "colab": {}
      },
      "source": [
        "import torch\n",
        "import torch.nn as nn\n",
        "import torch.nn.functional as F\n",
        "import numpy as np\n",
        "\n",
        "\n",
        "class Config(object):\n",
        "  \"\"\"配置参数\"\"\"\n",
        "  def __init__(self,dataset,embedding):\n",
        "    self.model_name = 'TextCNN'\n",
        "    self.train_path = dataset + '/data/train.txt'    #训练街\n",
        "    self.dev_path = dataset + '/data/dev.txt'      #验证集\n",
        "    self.test_path = dataset + '/data/test.txt'        #测试集\n",
        "    self.class_list = [x.strip() for x in open(dataset+'/data/class.txt',encoding='utf-8').readlines()]  #类别列表\n",
        "    self.vocab_path = dataset + '/data/vocab.pkl'    #词表\n",
        "    self.save_path = dataset + '/' + self.model_name + '.ckpt'  #模型训练结果\n",
        "    self.log_path = dataset + '/log/' + self.model_name\n",
        "    self.embedding_pretrained = torch.tensor(np.load(dataset + '/data/'+ \n",
        "                    embedding)[\"embeddings\"].astype('float32')) if embedding != 'random' else None\n",
        "    self.device = torch.device('cuda' if torch.cuda.is_available() else 'cpu')\n",
        "\n",
        "    self.dropout = 0.5                    #随机失活\n",
        "    self.require_improvement = 1000             #若超过1000batch效果没提升，则提前结束\n",
        "    self.num_classes = len(self.class_list)         #类别数\n",
        "    self.n_vocab = 0                     #词表大小\n",
        "    self.num_epochs = 10                   #epoch数\n",
        "    self.batch_size = 128\n",
        "    self.pad_size = 32                    #每句话处理成的长度（短填长切）\n",
        "    self.learning_rate = 1e-3               \n",
        "    #字向量维度\n",
        "    self.embed = self.embedding_pretrained.size(1) if self.embedding_pretrained is not None else 300 \n",
        "    self.filter_sizes = (2,3,4)               #卷积核尺寸\n",
        "    self.num_filters = 256                  #卷积核数量\n",
        "\n",
        "\n",
        "\n",
        "\"\"\"Convolutional Neural Networks for Sentence Classification\"\"\"\n",
        "class Model(nn.Module):\n",
        "  def __init__(self,config):\n",
        "    super(Model,self).__init__()\n",
        "    if config.embedding_pretrained is not None:\n",
        "      self.embedding = nn.Embedding.from_pretrained(config.embedding_pretrained,freeze=False)\n",
        "    else:\n",
        "      self.embedding = nn.Embedding(config.n_vocab,config.embed,padding_idx=config.n_vocab - 1)\n",
        "\n",
        "    #con2d参数：channels,output,(kernel size,embed_dim)\n",
        "    self.convs = nn.ModuleList([\n",
        "      nn.Conv2d(1,config.num_filters,(k,config.embed)) for k in config.filter_sizes\n",
        "    ])\n",
        "    self.dropout = nn.Dropout(config.dropout)\n",
        "    #每中filter_size输出为n_filters,因此总的out_channels=num_filters*filter_sizes\n",
        "    self.fc = nn.Linear(config.num_filters*len(config.filter_sizes),config.num_classes)\n",
        "\n",
        "  def conv_and_pool(self,x,conv):\n",
        "    x = F.relu(conv(x)).squeeze(3)\n",
        "    x = F.max_pool1d(x,x.size(2)).squeeze(2)\n",
        "    return x\n",
        "\n",
        "  def forward(self,x):\n",
        "    #x:[batch_size,sent_len]\n",
        "    out = self.embedding(x[0]) #[batch_size,sent_len,embedding_dim]\n",
        "    out = out.unsqueeze(1)   #[batch_size,1,sent_len,embedding_dim],第二维度是in_channels\n",
        "    #conv之后第一维是batch_size,第二维是n_filters，第三维与kernel_size有关，\n",
        "    #第四维与embedding_dim相关，都一样。将最后一维squeeze掉\n",
        "    out = torch.cat([self.conv_and_pool(out,conv) for conv in self.convs],1)\n",
        "    out = self.dropout(out)\n",
        "    out = self.fc(out)\n",
        "    return out"
      ],
      "execution_count": 0,
      "outputs": []
    },
    {
      "cell_type": "code",
      "metadata": {
        "id": "DytR2Ii1dlQa",
        "colab_type": "code",
        "outputId": "5ac120ec-0e82-4c5a-c4e0-6491b229608b",
        "colab": {
          "base_uri": "https://localhost:8080/",
          "height": 100
        }
      },
      "source": [
        "!pip install tensorboardX"
      ],
      "execution_count": 0,
      "outputs": [
        {
          "output_type": "stream",
          "text": [
            "Requirement already satisfied: tensorboardX in /usr/local/lib/python3.6/dist-packages (2.0)\n",
            "Requirement already satisfied: six in /usr/local/lib/python3.6/dist-packages (from tensorboardX) (1.12.0)\n",
            "Requirement already satisfied: numpy in /usr/local/lib/python3.6/dist-packages (from tensorboardX) (1.18.4)\n",
            "Requirement already satisfied: protobuf>=3.8.0 in /usr/local/lib/python3.6/dist-packages (from tensorboardX) (3.10.0)\n",
            "Requirement already satisfied: setuptools in /usr/local/lib/python3.6/dist-packages (from protobuf>=3.8.0->tensorboardX) (47.1.1)\n"
          ],
          "name": "stdout"
        }
      ]
    },
    {
      "cell_type": "markdown",
      "metadata": {
        "id": "PO8gSPzLDcea",
        "colab_type": "text"
      },
      "source": [
        "#### 3.train and eval"
      ]
    },
    {
      "cell_type": "code",
      "metadata": {
        "id": "lGQMkeTK7pbk",
        "colab_type": "code",
        "colab": {}
      },
      "source": [
        "import numpy as np\n",
        "import torch\n",
        "import torch.nn as nn\n",
        "import torch.nn.functional as F\n",
        "from sklearn import metrics\n",
        "import time\n",
        "from tensorboardX import SummaryWriter\n",
        "\n",
        "#权重初始化，默认Xavier\n",
        "def init_network(model,method='xavier',exclude='embedding',seed=123):\n",
        "  for name,w in model.named_parameters():\n",
        "    if exclude not in name:\n",
        "      if 'weight' in name:\n",
        "        if method == 'xavier':\n",
        "          nn.init.xavier_normal_(w)\n",
        "        elif method == 'kaiming':\n",
        "          nn.init.kaiming_normal_(w)\n",
        "        else:\n",
        "          nn.init.normal_(w)\n",
        "      elif 'bias' in name:\n",
        "        nn.init.constant_(w,0)\n",
        "      else:\n",
        "        pass\n",
        "\n",
        "def train(config,model,train_iter,dev_iter,test_iter):\n",
        "  start_time = time.time()\n",
        "  model.train()\n",
        "  optimizer = torch.optim.Adam(model.parameters(),lr=config.learning_rate)\n",
        "\n",
        "  #学习率指数衰减，每次epoch：学习率 = gamma * 学习率\n",
        "  #scheduler = torch.optim.lr_scheduler.ExponentialLR(optimizer, gamma=0.9)\n",
        "\n",
        "  total_batch = 0             #记录进行到多少batch \n",
        "  dev_best_loss = float('inf')      #验证集最好的loss、\n",
        "  last_improve = 0            #记录上次验证集loss下降的batch数\n",
        "  flag = False              #记录是否很久没有效果提升\n",
        "  writer = SummaryWriter(log_dir=config.log_path+'/'+time.strftime('%m-%d_%H.%M',time.localtime()))\n",
        "\n",
        "  for epoch in range(config.num_epochs):\n",
        "    print('Epoch [{}/{}]'.format(epoch+1,config.num_epochs))\n",
        "    #scheduler.step()           #学习率衰减\n",
        "\n",
        "    for i,(trains,labels) in enumerate(train_iter):\n",
        "      outputs = model(trains)\n",
        "      model.zero_grad()\n",
        "      loss = F.cross_entropy(outputs,labels)\n",
        "      loss.backward()\n",
        "      optimizer.step()\n",
        "\n",
        "      if total_batch % 100 == 0:\n",
        "        #每多少轮输出在训练集和验证集上的效果\n",
        "        true = labels.data.cpu()\n",
        "        predic = torch.max(outputs.data,1)[1].cpu()\n",
        "\n",
        "        train_acc = metrics.accuracy_score(true,predic)\n",
        "        dev_acc,dev_loss = evaluate(config,model,dev_iter)\n",
        "        if dev_loss < dev_best_loss:\n",
        "          dev_best_loss = dev_loss\n",
        "          torch.save(model.state_dict(),config.save_path)\n",
        "          improve = '*'\n",
        "          last_improve = total_batch\n",
        "        else:\n",
        "          improve = ''\n",
        "        time_dif = get_time_dif(start_time)\n",
        "        msg = 'Iter: {0:>6},  Train Loss: {1:>5.2},  Train Acc: {2:>6.2%},  Val Loss: {3:>5.2},  Val Acc: {4:>6.2%},  Time: {5} {6}'\n",
        "        print(msg.format(total_batch, loss.item(), train_acc, dev_loss, dev_acc, time_dif, improve))\n",
        "        writer.add_scalar(\"loss/train\", loss.item(), total_batch)\n",
        "        writer.add_scalar(\"loss/dev\", dev_loss, total_batch)\n",
        "        writer.add_scalar(\"acc/train\", train_acc, total_batch)\n",
        "        writer.add_scalar(\"acc/dev\", dev_acc, total_batch)\n",
        "        model.train()\n",
        "      total_batch += 1\n",
        "      if total_batch - last_improve > config.require_improvement:\n",
        "        # 验证集loss超过1000batch没下降，结束训练\n",
        "        print(\"No optimization for a long time, auto-stopping...\")\n",
        "        flag = True\n",
        "        break\n",
        "    if flag:\n",
        "      break\n",
        "  writer.close()\n",
        "  test(config,model,test_iter)\n",
        "\n",
        "def test(config,model,test_iter):\n",
        "  model.load_state_dict(torch.load(config.save_path))\n",
        "  model.eval()\n",
        "  start_tiem = time.time()\n",
        "  test_acc, test_loss, test_report, test_confusion = evaluate(config,model,test_iter,test=True)\n",
        "  msg = 'Test Loss: {0:>5.2},  Test Acc: {1:>6.2%}'\n",
        "  print(msg.format(test_loss, test_acc))\n",
        "  print(\"Precision, Recall and F1-Score...\")\n",
        "  print(test_report)\n",
        "  print(\"Confusion Matrix...\")\n",
        "  print(test_confusion)\n",
        "  time_dif = get_time_dif(start_time)\n",
        "  print(\"Time usage:\", time_dif)\n",
        "\n",
        "def evaluate(config,model,data_iter,test=False):\n",
        "  model.eval()\n",
        "  loss_total=0\n",
        "  predict_all = np.array([],dtype=int)\n",
        "  labels_all = np.array([],dtype=int)\n",
        "  with torch.no_grad():\n",
        "    for texts,labels in data_iter:\n",
        "      outputs = model(texts)\n",
        "      loss = F.cross_entropy(outputs, labels)\n",
        "      loss_total += loss.item()\n",
        "      labels = labels.data.cpu().numpy()\n",
        "      predic = torch.max(outputs.data,1)[1].cpu()\n",
        "      labels_all = np.append(labels_all,labels)\n",
        "      predict_all = np.append(predict_all,predic)\n",
        "\n",
        "  acc = metrics.accuracy_score(labels_all,predict_all)\n",
        "  if test:\n",
        "    report = metrics.classification_report(labels_all,predict_all,target_names=config.class_list,digits=4)\n",
        "    confusion = metrics.confusion_matrix(labels_all,predict_all)\n",
        "    return acc,loss_total / len(data_iter),report,confusion\n",
        "\n",
        "  return acc,loss_total / len(data_iter)\n"
      ],
      "execution_count": 0,
      "outputs": []
    },
    {
      "cell_type": "code",
      "metadata": {
        "id": "DenvZrigODvR",
        "colab_type": "code",
        "outputId": "af8ecb71-4046-4674-e9db-03e0c484702b",
        "colab": {
          "base_uri": "https://localhost:8080/",
          "height": 50
        }
      },
      "source": [
        "'''提取预训练词向量'''\n",
        "train_dir = \"./THUCNews/data/train.txt\"\n",
        "vocab_dir = \"./THUCNews/data/vocab.pkl\"\n",
        "pretrain_dir = \"./THUCNews/data/sgns.sogou.word\"\n",
        "emb_dim = 300\n",
        "filename_trimmed_dir = \"./THUCNews/data/embedding_SougouNews.npz\"\n",
        "\n",
        "if os.path.exists(vocab_dir):\n",
        "  word_to_id = pkl.load(open(vocab_dir, 'rb'))\n",
        "else:\n",
        "  tokenizer = lambda x:[y for y in x]  #以字为单位构建词表\n",
        "  word_to_id = build_vocab(train_dir,tokenizer=tokenizer,max_size=MAX_VOCAB_SIZE,min_freq=1)\n",
        "  pkl.dump(word_to_id,open(vocab_dir,'wb'))\n",
        "\n",
        "print(f'shape of word_to_is is {len(word_to_id)}')\n",
        "\n",
        "#通过预训练的词向量来表示词表数据\n",
        "# embeddings = np.random.rand(len(word_to_id),emb_dim)\n",
        "# f = open(pretrain_dir, \"r\", encoding='UTF-8')\n",
        "# for i, line in enumerate(f.readlines()):\n",
        "#   if i == 0:  # 若第一行是标题，则跳过\n",
        "#     continue\n",
        "#   lin = line.strip().split(\" \")\n",
        "#   if lin[0] in word_to_id:\n",
        "#     idx = word_to_id[lin[0]]\n",
        "#     emb = [float(x) for x in lin[1:301]]\n",
        "#     embeddings[idx] = np.asarray(emb, dtype='float32')\n",
        "# f.close()\n",
        "# np.savez_compressed(filename_trimmed_dir, embeddings=embeddings)\n",
        "\n",
        "#载入通过预训练的到的词向量表示\n",
        "embeddings = np.load(filename_trimmed_dir)\n",
        "embeddings = embeddings[\"embeddings\"]\n",
        "print(f'shape of embedding vocab is : {embeddings.shape}')"
      ],
      "execution_count": 0,
      "outputs": [
        {
          "output_type": "stream",
          "text": [
            "shape of word_to_is is 4762\n",
            "shape of embedding vocab is : (4762, 300)\n"
          ],
          "name": "stdout"
        }
      ]
    },
    {
      "cell_type": "code",
      "metadata": {
        "id": "TuaJjoAsRNnU",
        "colab_type": "code",
        "outputId": "3d5d0d26-01f9-4c94-840e-113041470cf8",
        "colab": {
          "base_uri": "https://localhost:8080/",
          "height": 116
        }
      },
      "source": [
        "dataset = 'THUCNews'\n",
        "embedding = 'embedding_SougouNews.npz'\n",
        "config = Config(dataset,embedding)\n",
        "\n",
        "np.random.seed(1)\n",
        "torch.manual_seed(1)\n",
        "torch.cuda.manual_seed_all(1)\n",
        "torch.backends.cudnn.deterministic = True  # 保证每次结果一样\n",
        "\n",
        "start_time = time.time()\n",
        "print(\"Loading data...\")\n",
        "\n",
        "vocab,train_data,dev_data,test_data = build_dataset(config,False)\n",
        "train_iter = build_iterator(train_data, config)\n",
        "dev_iter = build_iterator(dev_data, config)\n",
        "test_iter = build_iterator(test_data, config)\n",
        "time_dif = get_time_dif(start_time)\n",
        "print(\"Time usage:\", time_dif)"
      ],
      "execution_count": 0,
      "outputs": [
        {
          "output_type": "stream",
          "text": [
            "8039it [00:00, 80382.03it/s]"
          ],
          "name": "stderr"
        },
        {
          "output_type": "stream",
          "text": [
            "Loading data...\n",
            "Vocab size: 4762\n"
          ],
          "name": "stdout"
        },
        {
          "output_type": "stream",
          "text": [
            "180000it [00:02, 69261.14it/s]\n",
            "10000it [00:00, 81578.07it/s]\n",
            "10000it [00:00, 70019.67it/s]"
          ],
          "name": "stderr"
        },
        {
          "output_type": "stream",
          "text": [
            "Time usage: 0:00:03\n"
          ],
          "name": "stdout"
        },
        {
          "output_type": "stream",
          "text": [
            "\n"
          ],
          "name": "stderr"
        }
      ]
    },
    {
      "cell_type": "code",
      "metadata": {
        "id": "FivUvcxHgDwB",
        "colab_type": "code",
        "outputId": "c0bc6e83-bdeb-4a5d-e0dd-180698b81146",
        "colab": {
          "base_uri": "https://localhost:8080/",
          "height": 1000
        }
      },
      "source": [
        "#train\n",
        "config.n_vocab = len(vocab)\n",
        "\n",
        "model = Model(config).to(config.device)\n",
        "init_network(model)\n",
        "print(model.parameters)\n",
        "train(config,model,train_iter,dev_iter,test_iter)"
      ],
      "execution_count": 0,
      "outputs": [
        {
          "output_type": "stream",
          "text": [
            "<bound method Module.parameters of Model(\n",
            "  (embedding): Embedding(4762, 300)\n",
            "  (convs): ModuleList(\n",
            "    (0): Conv2d(1, 256, kernel_size=(2, 300), stride=(1, 1))\n",
            "    (1): Conv2d(1, 256, kernel_size=(3, 300), stride=(1, 1))\n",
            "    (2): Conv2d(1, 256, kernel_size=(4, 300), stride=(1, 1))\n",
            "  )\n",
            "  (dropout): Dropout(p=0.5, inplace=False)\n",
            "  (fc): Linear(in_features=768, out_features=10, bias=True)\n",
            ")>\n",
            "Epoch [1/10]\n",
            "Iter:      0,  Train Loss:   2.3,  Train Acc: 13.28%,  Val Loss:   2.6,  Val Acc: 17.41%,  Time: 0:00:00 *\n",
            "Iter:    100,  Train Loss:  0.74,  Train Acc: 72.66%,  Val Loss:  0.67,  Val Acc: 79.35%,  Time: 0:00:03 *\n",
            "Iter:    200,  Train Loss:  0.69,  Train Acc: 78.91%,  Val Loss:  0.54,  Val Acc: 83.60%,  Time: 0:00:06 *\n",
            "Iter:    300,  Train Loss:  0.43,  Train Acc: 86.72%,  Val Loss:  0.48,  Val Acc: 85.16%,  Time: 0:00:09 *\n",
            "Iter:    400,  Train Loss:  0.74,  Train Acc: 80.47%,  Val Loss:  0.46,  Val Acc: 85.91%,  Time: 0:00:11 *\n",
            "Iter:    500,  Train Loss:  0.33,  Train Acc: 89.84%,  Val Loss:  0.43,  Val Acc: 86.53%,  Time: 0:00:14 *\n",
            "Iter:    600,  Train Loss:   0.5,  Train Acc: 82.03%,  Val Loss:  0.41,  Val Acc: 87.10%,  Time: 0:00:17 *\n",
            "Iter:    700,  Train Loss:  0.47,  Train Acc: 84.38%,  Val Loss:   0.4,  Val Acc: 87.51%,  Time: 0:00:20 *\n",
            "Iter:    800,  Train Loss:  0.39,  Train Acc: 86.72%,  Val Loss:  0.39,  Val Acc: 88.15%,  Time: 0:00:23 *\n",
            "Iter:    900,  Train Loss:  0.49,  Train Acc: 85.16%,  Val Loss:  0.38,  Val Acc: 88.19%,  Time: 0:00:26 *\n",
            "Iter:   1000,  Train Loss:   0.3,  Train Acc: 85.16%,  Val Loss:  0.38,  Val Acc: 88.27%,  Time: 0:00:28 \n",
            "Iter:   1100,  Train Loss:  0.39,  Train Acc: 90.62%,  Val Loss:  0.37,  Val Acc: 88.30%,  Time: 0:00:31 *\n",
            "Iter:   1200,  Train Loss:  0.34,  Train Acc: 90.62%,  Val Loss:  0.36,  Val Acc: 88.91%,  Time: 0:00:34 *\n",
            "Iter:   1300,  Train Loss:  0.42,  Train Acc: 85.94%,  Val Loss:  0.36,  Val Acc: 88.87%,  Time: 0:00:37 *\n",
            "Iter:   1400,  Train Loss:  0.49,  Train Acc: 86.72%,  Val Loss:  0.35,  Val Acc: 89.26%,  Time: 0:00:40 *\n",
            "Epoch [2/10]\n",
            "Iter:   1500,  Train Loss:  0.43,  Train Acc: 85.94%,  Val Loss:  0.35,  Val Acc: 89.25%,  Time: 0:00:42 \n",
            "Iter:   1600,  Train Loss:  0.33,  Train Acc: 89.06%,  Val Loss:  0.35,  Val Acc: 89.07%,  Time: 0:00:45 \n",
            "Iter:   1700,  Train Loss:  0.45,  Train Acc: 88.28%,  Val Loss:  0.35,  Val Acc: 89.34%,  Time: 0:00:48 *\n",
            "Iter:   1800,  Train Loss:  0.38,  Train Acc: 87.50%,  Val Loss:  0.36,  Val Acc: 88.67%,  Time: 0:00:51 \n",
            "Iter:   1900,  Train Loss:  0.38,  Train Acc: 87.50%,  Val Loss:  0.34,  Val Acc: 89.40%,  Time: 0:00:54 *\n",
            "Iter:   2000,  Train Loss:  0.37,  Train Acc: 85.94%,  Val Loss:  0.34,  Val Acc: 89.48%,  Time: 0:00:56 \n",
            "Iter:   2100,  Train Loss:   0.4,  Train Acc: 90.62%,  Val Loss:  0.34,  Val Acc: 89.63%,  Time: 0:00:59 \n",
            "Iter:   2200,  Train Loss:  0.28,  Train Acc: 90.62%,  Val Loss:  0.33,  Val Acc: 89.79%,  Time: 0:01:02 *\n",
            "Iter:   2300,  Train Loss:  0.25,  Train Acc: 93.75%,  Val Loss:  0.33,  Val Acc: 89.99%,  Time: 0:01:05 \n",
            "Iter:   2400,  Train Loss:  0.28,  Train Acc: 92.97%,  Val Loss:  0.33,  Val Acc: 89.99%,  Time: 0:01:08 *\n",
            "Iter:   2500,  Train Loss:  0.19,  Train Acc: 93.75%,  Val Loss:  0.33,  Val Acc: 90.10%,  Time: 0:01:10 *\n",
            "Iter:   2600,  Train Loss:  0.38,  Train Acc: 86.72%,  Val Loss:  0.33,  Val Acc: 90.09%,  Time: 0:01:13 \n",
            "Iter:   2700,  Train Loss:  0.29,  Train Acc: 89.06%,  Val Loss:  0.32,  Val Acc: 90.01%,  Time: 0:01:16 *\n",
            "Iter:   2800,  Train Loss:  0.32,  Train Acc: 88.28%,  Val Loss:  0.32,  Val Acc: 89.95%,  Time: 0:01:19 \n",
            "Epoch [3/10]\n",
            "Iter:   2900,  Train Loss:  0.35,  Train Acc: 87.50%,  Val Loss:  0.33,  Val Acc: 89.84%,  Time: 0:01:22 \n",
            "Iter:   3000,  Train Loss:  0.27,  Train Acc: 92.19%,  Val Loss:  0.33,  Val Acc: 89.94%,  Time: 0:01:24 \n",
            "Iter:   3100,  Train Loss:   0.3,  Train Acc: 92.97%,  Val Loss:  0.33,  Val Acc: 89.74%,  Time: 0:01:27 \n",
            "Iter:   3200,  Train Loss:  0.39,  Train Acc: 91.41%,  Val Loss:  0.34,  Val Acc: 89.83%,  Time: 0:01:30 \n",
            "Iter:   3300,  Train Loss:  0.31,  Train Acc: 89.84%,  Val Loss:  0.33,  Val Acc: 90.04%,  Time: 0:01:33 \n",
            "Iter:   3400,  Train Loss:  0.23,  Train Acc: 90.62%,  Val Loss:  0.33,  Val Acc: 90.22%,  Time: 0:01:36 \n",
            "Iter:   3500,  Train Loss:  0.19,  Train Acc: 92.97%,  Val Loss:  0.33,  Val Acc: 90.08%,  Time: 0:01:38 \n",
            "Iter:   3600,  Train Loss:  0.17,  Train Acc: 94.53%,  Val Loss:  0.33,  Val Acc: 89.99%,  Time: 0:01:41 \n",
            "Iter:   3700,  Train Loss:  0.31,  Train Acc: 87.50%,  Val Loss:  0.32,  Val Acc: 90.33%,  Time: 0:01:44 *\n",
            "Iter:   3800,  Train Loss:  0.37,  Train Acc: 85.94%,  Val Loss:  0.32,  Val Acc: 90.35%,  Time: 0:01:47 *\n",
            "Iter:   3900,  Train Loss:  0.38,  Train Acc: 88.28%,  Val Loss:  0.33,  Val Acc: 89.89%,  Time: 0:01:50 \n",
            "Iter:   4000,  Train Loss:  0.21,  Train Acc: 96.09%,  Val Loss:  0.32,  Val Acc: 90.37%,  Time: 0:01:52 \n",
            "Iter:   4100,  Train Loss:  0.29,  Train Acc: 89.06%,  Val Loss:  0.33,  Val Acc: 90.30%,  Time: 0:01:55 \n",
            "Iter:   4200,  Train Loss:  0.35,  Train Acc: 89.84%,  Val Loss:  0.32,  Val Acc: 90.44%,  Time: 0:01:58 \n",
            "Epoch [4/10]\n",
            "Iter:   4300,  Train Loss:  0.24,  Train Acc: 93.75%,  Val Loss:  0.32,  Val Acc: 90.17%,  Time: 0:02:01 \n",
            "Iter:   4400,  Train Loss:  0.18,  Train Acc: 96.09%,  Val Loss:  0.32,  Val Acc: 90.36%,  Time: 0:02:04 \n",
            "Iter:   4500,  Train Loss:  0.33,  Train Acc: 90.62%,  Val Loss:  0.33,  Val Acc: 90.33%,  Time: 0:02:06 \n",
            "Iter:   4600,  Train Loss:  0.27,  Train Acc: 91.41%,  Val Loss:  0.33,  Val Acc: 90.26%,  Time: 0:02:09 \n",
            "Iter:   4700,  Train Loss:  0.34,  Train Acc: 88.28%,  Val Loss:  0.32,  Val Acc: 90.21%,  Time: 0:02:12 \n",
            "Iter:   4800,  Train Loss:  0.19,  Train Acc: 93.75%,  Val Loss:  0.33,  Val Acc: 90.12%,  Time: 0:02:15 \n",
            "No optimization for a long time, auto-stopping...\n",
            "Test Loss:  0.31,  Test Acc: 91.04%\n",
            "Precision, Recall and F1-Score...\n",
            "               precision    recall  f1-score   support\n",
            "\n",
            "      finance     0.9234    0.8920    0.9074      1000\n",
            "       realty     0.9239    0.9350    0.9294      1000\n",
            "       stocks     0.8693    0.8450    0.8570      1000\n",
            "    education     0.9545    0.9450    0.9497      1000\n",
            "      science     0.8696    0.8670    0.8683      1000\n",
            "      society     0.8531    0.9410    0.8949      1000\n",
            "     politics     0.9046    0.8910    0.8977      1000\n",
            "       sports     0.9361    0.9670    0.9513      1000\n",
            "         game     0.9333    0.9100    0.9215      1000\n",
            "entertainment     0.9421    0.9110    0.9263      1000\n",
            "\n",
            "     accuracy                         0.9104     10000\n",
            "    macro avg     0.9110    0.9104    0.9104     10000\n",
            " weighted avg     0.9110    0.9104    0.9104     10000\n",
            "\n",
            "Confusion Matrix...\n",
            "[[892  15  48   4   8  15   7   7   3   1]\n",
            " [ 10 935  11   1   3  16   7   4   5   8]\n",
            " [ 46  26 845   1  38   7  29   3   5   0]\n",
            " [  0   4   3 945   4  22   9   5   1   7]\n",
            " [  5   6  27   8 867  20  19   2  32  14]\n",
            " [  2  15   2  13   4 941  12   2   3   6]\n",
            " [  9   6  21   8  14  40 891   5   0   6]\n",
            " [  0   1   4   1   5  10   4 967   1   7]\n",
            " [  0   0  10   3  41  12   4  13 910   7]\n",
            " [  2   4   1   6  13  20   3  25  15 911]]\n",
            "Time usage: 0:02:18\n"
          ],
          "name": "stdout"
        }
      ]
    },
    {
      "cell_type": "code",
      "metadata": {
        "id": "CxyhL5wb58NY",
        "colab_type": "code",
        "colab": {}
      },
      "source": [
        "# batch_size128,pad-size：32，Test Loss:   0.3,  Test Acc: 91.24%\n",
        "# batch_size64,pad-size：40，Test Loss:  0.31,  Test Acc: 90.84%"
      ],
      "execution_count": 0,
      "outputs": []
    }
  ]
}