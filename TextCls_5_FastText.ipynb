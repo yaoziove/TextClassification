{
  "nbformat": 4,
  "nbformat_minor": 0,
  "metadata": {
    "colab": {
      "name": "TextCls_5_FastText.ipynb",
      "provenance": [],
      "collapsed_sections": [],
      "authorship_tag": "ABX9TyNzXnBAG3cTHYGrDPUrnARu",
      "include_colab_link": true
    },
    "kernelspec": {
      "name": "python3",
      "display_name": "Python 3"
    },
    "accelerator": "GPU"
  },
  "cells": [
    {
      "cell_type": "markdown",
      "metadata": {
        "id": "view-in-github",
        "colab_type": "text"
      },
      "source": [
        "<a href=\"https://colab.research.google.com/github/yaoziove/TextClassification/blob/master/TextCls_5_FastText.ipynb\" target=\"_parent\"><img src=\"https://colab.research.google.com/assets/colab-badge.svg\" alt=\"Open In Colab\"/></a>"
      ]
    },
    {
      "cell_type": "code",
      "metadata": {
        "id": "wd2YUWs1i239",
        "colab_type": "code",
        "outputId": "f1c6d884-6dfd-4140-b27f-5c13d2aa162c",
        "colab": {
          "base_uri": "https://localhost:8080/",
          "height": 116
        }
      },
      "source": [
        "!git clone https://github.com/yaoziove/TextClassification.git"
      ],
      "execution_count": 0,
      "outputs": [
        {
          "output_type": "stream",
          "text": [
            "Cloning into 'TextClassification'...\n",
            "remote: Enumerating objects: 24, done.\u001b[K\n",
            "remote: Counting objects:   4% (1/24)\u001b[K\rremote: Counting objects:   8% (2/24)\u001b[K\rremote: Counting objects:  12% (3/24)\u001b[K\rremote: Counting objects:  16% (4/24)\u001b[K\rremote: Counting objects:  20% (5/24)\u001b[K\rremote: Counting objects:  25% (6/24)\u001b[K\rremote: Counting objects:  29% (7/24)\u001b[K\rremote: Counting objects:  33% (8/24)\u001b[K\rremote: Counting objects:  37% (9/24)\u001b[K\rremote: Counting objects:  41% (10/24)\u001b[K\rremote: Counting objects:  45% (11/24)\u001b[K\rremote: Counting objects:  50% (12/24)\u001b[K\rremote: Counting objects:  54% (13/24)\u001b[K\rremote: Counting objects:  58% (14/24)\u001b[K\rremote: Counting objects:  62% (15/24)\u001b[K\rremote: Counting objects:  66% (16/24)\u001b[K\rremote: Counting objects:  70% (17/24)\u001b[K\rremote: Counting objects:  75% (18/24)\u001b[K\rremote: Counting objects:  79% (19/24)\u001b[K\rremote: Counting objects:  83% (20/24)\u001b[K\rremote: Counting objects:  87% (21/24)\u001b[K\rremote: Counting objects:  91% (22/24)\u001b[K\rremote: Counting objects:  95% (23/24)\u001b[K\rremote: Counting objects: 100% (24/24)\u001b[K\rremote: Counting objects: 100% (24/24), done.\u001b[K\n",
            "remote: Compressing objects: 100% (23/23), done.\u001b[K\n",
            "remote: Total 24 (delta 5), reused 0 (delta 0), pack-reused 0\u001b[K\n",
            "Unpacking objects: 100% (24/24), done.\n"
          ],
          "name": "stdout"
        }
      ]
    },
    {
      "cell_type": "code",
      "metadata": {
        "id": "IRYNabVp3wQK",
        "colab_type": "code",
        "outputId": "15b7ddc9-bfbb-4f6b-9774-dcc88aff2cfa",
        "colab": {
          "base_uri": "https://localhost:8080/",
          "height": 33
        }
      },
      "source": [
        "ls"
      ],
      "execution_count": 0,
      "outputs": [
        {
          "output_type": "stream",
          "text": [
            "\u001b[0m\u001b[01;34msample_data\u001b[0m/  \u001b[01;34mTextClassification\u001b[0m/\n"
          ],
          "name": "stdout"
        }
      ]
    },
    {
      "cell_type": "code",
      "metadata": {
        "id": "xP01zY0730X9",
        "colab_type": "code",
        "outputId": "71a0552b-4f62-4d17-88d5-d6561cef0715",
        "colab": {
          "base_uri": "https://localhost:8080/",
          "height": 33
        }
      },
      "source": [
        "cd TextClassification/"
      ],
      "execution_count": 0,
      "outputs": [
        {
          "output_type": "stream",
          "text": [
            "/content/TextClassification\n"
          ],
          "name": "stdout"
        }
      ]
    },
    {
      "cell_type": "code",
      "metadata": {
        "id": "1EDxl-T033gs",
        "colab_type": "code",
        "outputId": "c372c2f5-878e-4de9-f771-3d805bd1dcbf",
        "colab": {
          "base_uri": "https://localhost:8080/",
          "height": 33
        }
      },
      "source": [
        "ls"
      ],
      "execution_count": 0,
      "outputs": [
        {
          "output_type": "stream",
          "text": [
            "\u001b[0m\u001b[01;34mChinese-Text-Classification-Pytorch\u001b[0m/\n"
          ],
          "name": "stdout"
        }
      ]
    },
    {
      "cell_type": "code",
      "metadata": {
        "id": "nGCaShnyG1YV",
        "colab_type": "code",
        "outputId": "0865c81a-3b7e-4983-dcd3-85404c2e704a",
        "colab": {
          "base_uri": "https://localhost:8080/",
          "height": 33
        }
      },
      "source": [
        "cd Chinese-Text-Classification-Pytorch/"
      ],
      "execution_count": 0,
      "outputs": [
        {
          "output_type": "stream",
          "text": [
            "/content/TextClassification/Chinese-Text-Classification-Pytorch\n"
          ],
          "name": "stdout"
        }
      ]
    },
    {
      "cell_type": "code",
      "metadata": {
        "id": "i1_QfNX5G1es",
        "colab_type": "code",
        "outputId": "dfa774df-6f98-4ddf-806a-c3f719dcea14",
        "colab": {
          "base_uri": "https://localhost:8080/",
          "height": 33
        }
      },
      "source": [
        "ls"
      ],
      "execution_count": 0,
      "outputs": [
        {
          "output_type": "stream",
          "text": [
            "LICENSE  links.txt  \u001b[0m\u001b[01;34mmodels\u001b[0m/  README.md  run.py  \u001b[01;34mTHUCNews\u001b[0m/\n"
          ],
          "name": "stdout"
        }
      ]
    },
    {
      "cell_type": "code",
      "metadata": {
        "id": "HeU1fx1TVEtb",
        "colab_type": "code",
        "colab": {}
      },
      "source": [
        "# A={\"a\":1,\"b\":2,\"c\":3,\"d\":4}\n",
        "# B=sorted([_ for _ in A.items()],key=lambda x:x[1],reverse=True)[:3]\n",
        "# B_dic={word_count[0]:idx for idx,word_count in enumerate(B)}\n",
        "# B_dic"
      ],
      "execution_count": 0,
      "outputs": []
    },
    {
      "cell_type": "markdown",
      "metadata": {
        "id": "XYI3w2bO3_1X",
        "colab_type": "text"
      },
      "source": [
        "#### 1.Utils\n",
        "data preprocess"
      ]
    },
    {
      "cell_type": "code",
      "metadata": {
        "id": "h-Lxyq_b34ZW",
        "colab_type": "code",
        "colab": {}
      },
      "source": [
        "import os\n",
        "import torch\n",
        "import numpy as np\n",
        "import pickle as pkl\n",
        "from tqdm import tqdm\n",
        "import time \n",
        "from datetime import timedelta\n",
        "\n",
        "MAX_VOCAB_SIZE = 10000   #词表长度限制\n",
        "UNK,PAD = '<UNK>','<PAD>' #未知字，padding字符\n",
        "\n",
        "def build_vocab(file_path,tokenizer,max_size,min_freq):\n",
        "  vocab_dic = {}\n",
        "  with open(file_path,\"r\",encoding=\"utf-8\") as f:\n",
        "    for line in tqdm(f):\n",
        "      line  = line.strip()\n",
        "      if not line:\n",
        "        continue\n",
        "      content = line.split('\\t')[0]\n",
        "      for word in tokenizer(content):\n",
        "        vocab_dic[word] = vocab_dic.get(word,0)+1\n",
        "    vocab_list = sorted([_ for _ in vocab_dic.items() if _[1]>=min_freq],key=lambda x:x[1],reverse=True)[:max_size]\n",
        "    vocab_dic = {word_count[0]:idx for idx,word_count in enumerate(vocab_list)}\n",
        "    vocab_dic.undate({UNK:len(vocab_dic),PAD:len(vocab_dic)+1})\n",
        "  return vocab_dic\n",
        "\n",
        "def build_dataset(config,ues_word):  #ues word 翻译为“词\"\n",
        "  if ues_word:\n",
        "    tokenizer = lambda x:x.split(' ')\n",
        "  else:\n",
        "    tokenizer = lambda x:[y for y in x] #char-leve\n",
        "  \n",
        "  if os.path.exists(config.vocab_path):\n",
        "    vocab = pkl.load(open(config.vocab_path,'rb'))\n",
        "  else:\n",
        "    vocab = build_vocab(config.train_path,tokenizer=tokenizer,max_size=MAX_VOCAB_SIZE,min_freq=1)\n",
        "    pkl.dump(vocab,open(config.vocab_path,'wb'))\n",
        "  print(f\"Vocab size: {len(vocab)}\")\n",
        "\n",
        "  def biGramHash(sequence,t,buckets):\n",
        "    t1 = sequence[t-1] if t-1 >= 0 else 0\n",
        "    return (t1*14918087) % buckets\n",
        "\n",
        "  def triGramHash(sequence,t,buckets):\n",
        "    t1 = sequence[t-1] if t-1 >= 0 else 0\n",
        "    t2 = sequence[t-2] if t-2 >= 0 else 0\n",
        "    return (t2*14918087*18408749 + t1*14918087) % buckets\n",
        "\n",
        "  def load_dataset(path, pad_size=32):\n",
        "    contents = []\n",
        "    with open(path, 'r', encoding='UTF-8') as f:\n",
        "      for line in tqdm(f):\n",
        "        lin = line.strip()\n",
        "        if not lin:\n",
        "          continue\n",
        "        content, label = lin.split('\\t')\n",
        "        words_line = []\n",
        "        token = tokenizer(content)\n",
        "        seq_len = len(token)\n",
        "        if pad_size:\n",
        "          if len(token) < pad_size:\n",
        "            token.extend([PAD]*(pad_size-len(token)))\n",
        "          else:\n",
        "            token = token[:pad_size]\n",
        "            seq_len = pad_size\n",
        "        # word to id\n",
        "        for word in token:\n",
        "          words_line.append(vocab.get(word,vocab.get(UNK)))\n",
        "\n",
        "        #fasttext ngram\n",
        "        buckets=config.n_gram_vocab\n",
        "        bigram=[]\n",
        "        trigram=[]\n",
        "        #------ngram------\n",
        "        for i in range(pad_size):\n",
        "          bigram.append(biGramHash(words_line, i, buckets))\n",
        "          trigram.append(triGramHash(words_line, i, buckets))\n",
        "        contents.append((words_line,int(label),seq_len,bigram,trigram))\n",
        "    return contents\n",
        "  train = load_dataset(config.train_path, config.pad_size)\n",
        "  dev = load_dataset(config.dev_path, config.pad_size)\n",
        "  test = load_dataset(config.test_path, config.pad_size)\n",
        "  return vocab, train, dev, test\n",
        "\n",
        "class DatasetIterater(object):\n",
        "  def __init__(self, batches, batch_size, device):\n",
        "    self.batch_size = batch_size\n",
        "    self.batches = batches\n",
        "    self.n_batches = len(batches) // batch_size\n",
        "    self.residue = False  # 记录batch数量是否为整数\n",
        "    if len(batches) % self.n_batches != 0:\n",
        "      self.residue = True\n",
        "    self.index = 0\n",
        "    self.device = device\n",
        "\n",
        "  def _to_tensor(self, datas):\n",
        "    x = torch.LongTensor([_[0] for _ in datas]).to(self.device)\n",
        "    y = torch.LongTensor([_[1] for _ in datas]).to(self.device)\n",
        "    \n",
        "    bigram = torch.LongTensor([_[3] for _ in datas]).to(self.device)\n",
        "    trigram = torch.LongTensor([_[4] for _ in datas]).to(self.device)\n",
        "    # pad前的长度(超过pad_size的设为pad_size)\n",
        "    seq_len = torch.LongTensor([_[2] for _ in datas]).to(self.device)\n",
        "    return (x,seq_len,bigram,trigram),y\n",
        "\n",
        "  def __next__(self):\n",
        "    if self.residue and self.index == self.n_batches:\n",
        "      batches = self.batches[self.index*self.batch_size:len(self.batches)]\n",
        "      self.index += 1\n",
        "      batches = self._to_tensor(batches)\n",
        "      return batches\n",
        "\n",
        "    elif self.index >= self.n_batches:\n",
        "      self.index = 0\n",
        "      raise StopIteration\n",
        "    else:\n",
        "      batches = self.batches[self.index*self.batch_size:(self.index+1)*self.batch_size]\n",
        "      self.index += 1\n",
        "      batches = self._to_tensor(batches)\n",
        "      return batches\n",
        "\n",
        "  def __iter__(self):\n",
        "    return self\n",
        "\n",
        "  def __len__(self):\n",
        "    if self.residue:\n",
        "      return self.n_batches + 1\n",
        "    else:\n",
        "      return self.n_batches\n",
        "\n",
        "def build_iterator(dataset, config):\n",
        "  iter_ = DatasetIterater(dataset, config.batch_size, config.device)\n",
        "  return iter_\n",
        "\n",
        "def get_time_dif(start_time):\n",
        "  \"\"\"获取已使用时间\"\"\"\n",
        "  end_time = time.time()\n",
        "  time_dif = end_time - start_time\n",
        "  return timedelta(seconds=int(round(time_dif)))"
      ],
      "execution_count": 0,
      "outputs": []
    },
    {
      "cell_type": "markdown",
      "metadata": {
        "id": "i2EOPaF5DX8w",
        "colab_type": "text"
      },
      "source": [
        "#### 2.Model 相关"
      ]
    },
    {
      "cell_type": "code",
      "metadata": {
        "id": "oorG02kjvxXW",
        "colab_type": "code",
        "colab": {}
      },
      "source": [
        "import torch\n",
        "import torch.nn as nn\n",
        "import torch.nn.functional as F\n",
        "import numpy as np\n",
        "\n",
        "\n",
        "class Config(object):\n",
        "  \"\"\"配置参数\"\"\"\n",
        "  def __init__(self,dataset,embedding):\n",
        "    self.model_name = 'FastText'\n",
        "    self.train_path = dataset + '/data/train.txt'    #训练街\n",
        "    self.dev_path = dataset + '/data/dev.txt'      #验证集\n",
        "    self.test_path = dataset + '/data/test.txt'     #测试集\n",
        "    self.class_list = [x.strip() for x in open(dataset+'/data/class.txt',encoding='utf-8').readlines()]  #类别列表\n",
        "    self.vocab_path = dataset + '/data/vocab.pkl'    #词表\n",
        "    self.save_path = dataset + '/' + self.model_name + '.ckpt'  #模型训练结果\n",
        "    self.log_path = dataset + '/log/' + self.model_name\n",
        "    self.embedding_pretrained = torch.tensor(np.load(dataset + '/data/'+ \n",
        "                    embedding)[\"embeddings\"].astype('float32')) if embedding != 'random' else None\n",
        "    self.device = torch.device('cuda' if torch.cuda.is_available() else 'cpu')\n",
        "\n",
        "    self.dropout = 0.5                    #随机失活\n",
        "    self.require_improvement = 1000             #若超过1000batch效果没提升，则提前结束\n",
        "    self.num_classes = len(self.class_list)         #类别数\n",
        "    self.n_vocab = 0                     #词表大小\n",
        "    self.num_epochs = 10                   #epoch数\n",
        "    self.batch_size = 128\n",
        "    self.pad_size = 32                    #每句话处理成的长度（短填长切）\n",
        "    self.learning_rate = 1e-3               \n",
        "    #字向量维度\n",
        "    self.embed = self.embedding_pretrained.size(1) if self.embedding_pretrained is not None else 300 \n",
        "    self.hidden_size = 256                  #lstm隐藏层尺寸\n",
        "    self.n_gram_vocab = 250499                #n-gram词表打小\n",
        "\n",
        "\n",
        "\n",
        "\"\"\"\n",
        "  Bag of Tricks for Efficient Text Classification\n",
        "\"\"\"\n",
        "class Model(nn.Module):\n",
        "  def __init__(self,config):\n",
        "    super(Model,self).__init__()\n",
        "    # if config.embedding_pretrained is not None:\n",
        "    #   self.embedding = nn.Embedding.from_pretrained(config.embedding_pretrained,freeze=False)\n",
        "    # else:\n",
        "    #   self.embedding = nn.Embedding(config.n_vocab,config.embed,padding_idx=config.n_vocab - 1)\n",
        "    self.embedding = nn.Embedding(config.n_vocab,config.embed,padding_idx=config.n_vocab - 1)\n",
        "    self.embedding_ngram2 = nn.Embedding(config.n_gram_vocab,config.embed)\n",
        "    self.embedding_ngram3 = nn.Embedding(config.n_gram_vocab,config.embed)\n",
        "    self.fc1 = nn.Linear(config.embed*3,config.hidden_size)\n",
        "    self.fc2 = nn.Linear(config.hidden_size,config.num_classes)\n",
        "    self.dropout = nn.Dropout(config.dropout)\n",
        "\n",
        "    \n",
        "\n",
        "  def forward(self,x):\n",
        "    out_word = self.embedding(x[0])\n",
        "    out_bigram = self.embedding_ngram2(x[2])\n",
        "    out_trigram = self.embedding_ngram3(x[3])\n",
        "    out = torch.cat((out_word,out_bigram,out_trigram),-1)\n",
        "\n",
        "    out = out.mean(dim=1)\n",
        "    out = self.dropout(out)\n",
        "    out = self.fc1(out)\n",
        "    out = F.relu(out)\n",
        "    out = self.fc2(out)\n",
        "    return out"
      ],
      "execution_count": 0,
      "outputs": []
    },
    {
      "cell_type": "code",
      "metadata": {
        "id": "9qSeGWT9Lbz_",
        "colab_type": "code",
        "outputId": "61910325-ffed-410a-977b-f1ddf58dfbc7",
        "colab": {
          "base_uri": "https://localhost:8080/",
          "height": 33
        }
      },
      "source": [
        "import torch\n",
        "import torch.nn as nn\n",
        "import torch.nn.functional as F\n",
        "a=torch.rand(2,3,4)\n",
        "\n",
        "b=a.mean(dim=1)\n",
        "b.shape"
      ],
      "execution_count": 0,
      "outputs": [
        {
          "output_type": "execute_result",
          "data": {
            "text/plain": [
              "torch.Size([2, 4])"
            ]
          },
          "metadata": {
            "tags": []
          },
          "execution_count": 10
        }
      ]
    },
    {
      "cell_type": "code",
      "metadata": {
        "id": "DytR2Ii1dlQa",
        "colab_type": "code",
        "outputId": "38bf0957-c0bc-4844-c765-10851c104004",
        "colab": {
          "base_uri": "https://localhost:8080/",
          "height": 186
        }
      },
      "source": [
        "!pip install tensorboardX"
      ],
      "execution_count": 0,
      "outputs": [
        {
          "output_type": "stream",
          "text": [
            "Collecting tensorboardX\n",
            "\u001b[?25l  Downloading https://files.pythonhosted.org/packages/35/f1/5843425495765c8c2dd0784a851a93ef204d314fc87bcc2bbb9f662a3ad1/tensorboardX-2.0-py2.py3-none-any.whl (195kB)\n",
            "\r\u001b[K     |█▊                              | 10kB 23.5MB/s eta 0:00:01\r\u001b[K     |███▍                            | 20kB 2.8MB/s eta 0:00:01\r\u001b[K     |█████                           | 30kB 3.8MB/s eta 0:00:01\r\u001b[K     |██████▊                         | 40kB 4.1MB/s eta 0:00:01\r\u001b[K     |████████▍                       | 51kB 3.4MB/s eta 0:00:01\r\u001b[K     |██████████                      | 61kB 3.7MB/s eta 0:00:01\r\u001b[K     |███████████▊                    | 71kB 4.1MB/s eta 0:00:01\r\u001b[K     |█████████████▍                  | 81kB 4.5MB/s eta 0:00:01\r\u001b[K     |███████████████                 | 92kB 4.9MB/s eta 0:00:01\r\u001b[K     |████████████████▊               | 102kB 4.6MB/s eta 0:00:01\r\u001b[K     |██████████████████▍             | 112kB 4.6MB/s eta 0:00:01\r\u001b[K     |████████████████████            | 122kB 4.6MB/s eta 0:00:01\r\u001b[K     |█████████████████████▊          | 133kB 4.6MB/s eta 0:00:01\r\u001b[K     |███████████████████████▌        | 143kB 4.6MB/s eta 0:00:01\r\u001b[K     |█████████████████████████▏      | 153kB 4.6MB/s eta 0:00:01\r\u001b[K     |██████████████████████████▉     | 163kB 4.6MB/s eta 0:00:01\r\u001b[K     |████████████████████████████▌   | 174kB 4.6MB/s eta 0:00:01\r\u001b[K     |██████████████████████████████▏ | 184kB 4.6MB/s eta 0:00:01\r\u001b[K     |███████████████████████████████▉| 194kB 4.6MB/s eta 0:00:01\r\u001b[K     |████████████████████████████████| 204kB 4.6MB/s \n",
            "\u001b[?25hRequirement already satisfied: protobuf>=3.8.0 in /usr/local/lib/python3.6/dist-packages (from tensorboardX) (3.10.0)\n",
            "Requirement already satisfied: numpy in /usr/local/lib/python3.6/dist-packages (from tensorboardX) (1.18.4)\n",
            "Requirement already satisfied: six in /usr/local/lib/python3.6/dist-packages (from tensorboardX) (1.12.0)\n",
            "Requirement already satisfied: setuptools in /usr/local/lib/python3.6/dist-packages (from protobuf>=3.8.0->tensorboardX) (47.1.1)\n",
            "Installing collected packages: tensorboardX\n",
            "Successfully installed tensorboardX-2.0\n"
          ],
          "name": "stdout"
        }
      ]
    },
    {
      "cell_type": "markdown",
      "metadata": {
        "id": "PO8gSPzLDcea",
        "colab_type": "text"
      },
      "source": [
        "#### 3.train and eval"
      ]
    },
    {
      "cell_type": "code",
      "metadata": {
        "id": "lGQMkeTK7pbk",
        "colab_type": "code",
        "colab": {}
      },
      "source": [
        "import numpy as np\n",
        "import torch\n",
        "import torch.nn as nn\n",
        "import torch.nn.functional as F\n",
        "from sklearn import metrics\n",
        "import time\n",
        "from tensorboardX import SummaryWriter\n",
        "\n",
        "#权重初始化，默认Xavier\n",
        "def init_network(model,method='xavier',exclude='embedding',seed=123):\n",
        "  for name,w in model.named_parameters():\n",
        "    if exclude not in name:\n",
        "      if 'weight' in name:\n",
        "        if method == 'xavier':\n",
        "          nn.init.xavier_normal_(w)\n",
        "        elif method == 'kaiming':\n",
        "          nn.init.kaiming_normal_(w)\n",
        "        else:\n",
        "          nn.init.normal_(w)\n",
        "      elif 'bias' in name:\n",
        "        nn.init.constant_(w,0)\n",
        "      else:\n",
        "        pass\n",
        "\n",
        "def train(config,model,train_iter,dev_iter,test_iter):\n",
        "  start_time = time.time()\n",
        "  model.train()\n",
        "  optimizer = torch.optim.Adam(model.parameters(),lr=config.learning_rate)\n",
        "\n",
        "  #学习率指数衰减，每次epoch：学习率 = gamma * 学习率\n",
        "  #scheduler = torch.optim.lr_scheduler.ExponentialLR(optimizer, gamma=0.9)\n",
        "\n",
        "  total_batch = 0             #记录进行到多少batch \n",
        "  dev_best_loss = float('inf')      #验证集最好的loss、\n",
        "  last_improve = 0            #记录上次验证集loss下降的batch数\n",
        "  flag = False              #记录是否很久没有效果提升\n",
        "  writer = SummaryWriter(log_dir=config.log_path+'/'+time.strftime('%m-%d_%H.%M',time.localtime()))\n",
        "\n",
        "  for epoch in range(config.num_epochs):\n",
        "    print('Epoch [{}/{}]'.format(epoch+1,config.num_epochs))\n",
        "    #scheduler.step()           #学习率衰减\n",
        "\n",
        "    for i,(trains,labels) in enumerate(train_iter):\n",
        "      outputs = model(trains)\n",
        "      model.zero_grad()\n",
        "      loss = F.cross_entropy(outputs,labels)\n",
        "      loss.backward()\n",
        "      optimizer.step()\n",
        "\n",
        "      if total_batch % 100 == 0:\n",
        "        #每多少轮输出在训练集和验证集上的效果\n",
        "        true = labels.data.cpu()\n",
        "        predic = torch.max(outputs.data,1)[1].cpu()\n",
        "\n",
        "        train_acc = metrics.accuracy_score(true,predic)\n",
        "        dev_acc,dev_loss = evaluate(config,model,dev_iter)\n",
        "        if dev_loss < dev_best_loss:\n",
        "          dev_best_loss = dev_loss\n",
        "          torch.save(model.state_dict(),config.save_path)\n",
        "          improve = '*'\n",
        "          last_improve = total_batch\n",
        "        else:\n",
        "          improve = ''\n",
        "        time_dif = get_time_dif(start_time)\n",
        "        msg = 'Iter: {0:>6},  Train Loss: {1:>5.2},  Train Acc: {2:>6.2%},  Val Loss: {3:>5.2},  Val Acc: {4:>6.2%},  Time: {5} {6}'\n",
        "        print(msg.format(total_batch, loss.item(), train_acc, dev_loss, dev_acc, time_dif, improve))\n",
        "        writer.add_scalar(\"loss/train\", loss.item(), total_batch)\n",
        "        writer.add_scalar(\"loss/dev\", dev_loss, total_batch)\n",
        "        writer.add_scalar(\"acc/train\", train_acc, total_batch)\n",
        "        writer.add_scalar(\"acc/dev\", dev_acc, total_batch)\n",
        "        model.train()\n",
        "      total_batch += 1\n",
        "      if total_batch - last_improve > config.require_improvement:\n",
        "        # 验证集loss超过1000batch没下降，结束训练\n",
        "        print(\"No optimization for a long time, auto-stopping...\")\n",
        "        flag = True\n",
        "        break\n",
        "    if flag:\n",
        "      break\n",
        "  writer.close()\n",
        "  test(config,model,test_iter)\n",
        "\n",
        "def test(config,model,test_iter):\n",
        "  model.load_state_dict(torch.load(config.save_path))\n",
        "  model.eval()\n",
        "  start_tiem = time.time()\n",
        "  test_acc, test_loss, test_report, test_confusion = evaluate(config,model,test_iter,test=True)\n",
        "  msg = 'Test Loss: {0:>5.2},  Test Acc: {1:>6.2%}'\n",
        "  print(msg.format(test_loss, test_acc))\n",
        "  print(\"Precision, Recall and F1-Score...\")\n",
        "  print(test_report)\n",
        "  print(\"Confusion Matrix...\")\n",
        "  print(test_confusion)\n",
        "  time_dif = get_time_dif(start_time)\n",
        "  print(\"Time usage:\", time_dif)\n",
        "\n",
        "def evaluate(config,model,data_iter,test=False):\n",
        "  model.eval()\n",
        "  loss_total=0\n",
        "  predict_all = np.array([],dtype=int)\n",
        "  labels_all = np.array([],dtype=int)\n",
        "  with torch.no_grad():\n",
        "    for texts,labels in data_iter:\n",
        "      outputs = model(texts)\n",
        "      loss = F.cross_entropy(outputs, labels)\n",
        "      loss_total += loss.item()\n",
        "      labels = labels.data.cpu().numpy()\n",
        "      predic = torch.max(outputs.data,1)[1].cpu()\n",
        "      labels_all = np.append(labels_all,labels)\n",
        "      predict_all = np.append(predict_all,predic)\n",
        "\n",
        "  acc = metrics.accuracy_score(labels_all,predict_all)\n",
        "  if test:\n",
        "    report = metrics.classification_report(labels_all,predict_all,target_names=config.class_list,digits=4)\n",
        "    confusion = metrics.confusion_matrix(labels_all,predict_all)\n",
        "    return acc,loss_total / len(data_iter),report,confusion\n",
        "\n",
        "  return acc,loss_total / len(data_iter)\n"
      ],
      "execution_count": 0,
      "outputs": []
    },
    {
      "cell_type": "code",
      "metadata": {
        "id": "DenvZrigODvR",
        "colab_type": "code",
        "outputId": "0f636769-acc7-43f4-af9f-bcc0a5d48528",
        "colab": {
          "base_uri": "https://localhost:8080/",
          "height": 50
        }
      },
      "source": [
        "'''提取预训练词向量'''\n",
        "train_dir = \"./THUCNews/data/train.txt\"\n",
        "vocab_dir = \"./THUCNews/data/vocab.pkl\"\n",
        "pretrain_dir = \"./THUCNews/data/sgns.sogou.word\"\n",
        "emb_dim = 300\n",
        "filename_trimmed_dir = \"./THUCNews/data/embedding_SougouNews.npz\"\n",
        "\n",
        "if os.path.exists(vocab_dir):\n",
        "  word_to_id = pkl.load(open(vocab_dir, 'rb'))\n",
        "else:\n",
        "  tokenizer = lambda x:[y for y in x]  #以字为单位构建词表\n",
        "  word_to_id = build_vocab(train_dir,tokenizer=tokenizer,max_size=MAX_VOCAB_SIZE,min_freq=1)\n",
        "  pkl.dump(word_to_id,open(vocab_dir,'wb'))\n",
        "\n",
        "print(f'shape of word_to_is is {len(word_to_id)}')\n",
        "\n",
        "#通过预训练的词向量来表示词表数据\n",
        "# embeddings = np.random.rand(len(word_to_id),emb_dim)\n",
        "# f = open(pretrain_dir, \"r\", encoding='UTF-8')\n",
        "# for i, line in enumerate(f.readlines()):\n",
        "#   if i == 0:  # 若第一行是标题，则跳过\n",
        "#     continue\n",
        "#   lin = line.strip().split(\" \")\n",
        "#   if lin[0] in word_to_id:\n",
        "#     idx = word_to_id[lin[0]]\n",
        "#     emb = [float(x) for x in lin[1:301]]\n",
        "#     embeddings[idx] = np.asarray(emb, dtype='float32')\n",
        "# f.close()\n",
        "# np.savez_compressed(filename_trimmed_dir, embeddings=embeddings)\n",
        "\n",
        "#载入通过预训练的到的词向量表示\n",
        "embeddings = np.load(filename_trimmed_dir)\n",
        "embeddings = embeddings[\"embeddings\"]\n",
        "print(f'shape of embedding vocab is : {embeddings.shape}')"
      ],
      "execution_count": 0,
      "outputs": [
        {
          "output_type": "stream",
          "text": [
            "shape of word_to_is is 4762\n",
            "shape of embedding vocab is : (4762, 300)\n"
          ],
          "name": "stdout"
        }
      ]
    },
    {
      "cell_type": "code",
      "metadata": {
        "id": "TuaJjoAsRNnU",
        "colab_type": "code",
        "outputId": "c54a46fa-d5b8-4123-98cb-ca8e63d502d1",
        "colab": {
          "base_uri": "https://localhost:8080/",
          "height": 116
        }
      },
      "source": [
        "dataset = 'THUCNews'\n",
        "embedding = 'embedding_SougouNews.npz'\n",
        "config = Config(dataset,embedding)\n",
        "\n",
        "np.random.seed(1)\n",
        "torch.manual_seed(1)\n",
        "torch.cuda.manual_seed_all(1)\n",
        "torch.backends.cudnn.deterministic = True  # 保证每次结果一样\n",
        "\n",
        "start_time = time.time()\n",
        "print(\"Loading data...\")\n",
        "\n",
        "vocab,train_data,dev_data,test_data = build_dataset(config,False)\n",
        "train_iter = build_iterator(train_data, config)\n",
        "dev_iter = build_iterator(dev_data, config)\n",
        "test_iter = build_iterator(test_data, config)\n",
        "time_dif = get_time_dif(start_time)\n",
        "print(\"Time usage:\", time_dif)"
      ],
      "execution_count": 0,
      "outputs": [
        {
          "output_type": "stream",
          "text": [
            "2467it [00:00, 24252.43it/s]"
          ],
          "name": "stderr"
        },
        {
          "output_type": "stream",
          "text": [
            "Loading data...\n",
            "Vocab size: 4762\n"
          ],
          "name": "stdout"
        },
        {
          "output_type": "stream",
          "text": [
            "180000it [00:08, 20947.55it/s]\n",
            "10000it [00:00, 21381.67it/s]\n",
            "10000it [00:00, 21905.29it/s]"
          ],
          "name": "stderr"
        },
        {
          "output_type": "stream",
          "text": [
            "Time usage: 0:00:10\n"
          ],
          "name": "stdout"
        },
        {
          "output_type": "stream",
          "text": [
            "\n"
          ],
          "name": "stderr"
        }
      ]
    },
    {
      "cell_type": "code",
      "metadata": {
        "id": "FivUvcxHgDwB",
        "colab_type": "code",
        "outputId": "c8d88852-7c80-404c-e10f-7e52a39f31f5",
        "colab": {
          "base_uri": "https://localhost:8080/",
          "height": 1000
        }
      },
      "source": [
        "#train\n",
        "config.n_vocab = len(vocab)\n",
        "\n",
        "model = Model(config).to(config.device)\n",
        "init_network(model)\n",
        "print(model.parameters)\n",
        "train(config,model,train_iter,dev_iter,test_iter)"
      ],
      "execution_count": 0,
      "outputs": [
        {
          "output_type": "stream",
          "text": [
            "<bound method Module.parameters of Model(\n",
            "  (embedding): Embedding(4762, 300, padding_idx=4761)\n",
            "  (embedding_ngram2): Embedding(250499, 300)\n",
            "  (embedding_ngram3): Embedding(250499, 300)\n",
            "  (fc1): Linear(in_features=900, out_features=256, bias=True)\n",
            "  (fc2): Linear(in_features=256, out_features=10, bias=True)\n",
            "  (dropout): Dropout(p=0.5, inplace=False)\n",
            ")>\n",
            "Epoch [1/10]\n",
            "Iter:      0,  Train Loss:   2.6,  Train Acc:  7.03%,  Val Loss:   2.3,  Val Acc:  9.65%,  Time: 0:00:02 *\n",
            "Iter:    100,  Train Loss:   1.2,  Train Acc: 61.72%,  Val Loss:   1.0,  Val Acc: 69.68%,  Time: 0:00:07 *\n",
            "Iter:    200,  Train Loss:   1.2,  Train Acc: 62.50%,  Val Loss:  0.76,  Val Acc: 76.23%,  Time: 0:00:14 *\n",
            "Iter:    300,  Train Loss:  0.78,  Train Acc: 77.34%,  Val Loss:  0.69,  Val Acc: 77.41%,  Time: 0:00:33 *\n",
            "Iter:    400,  Train Loss:  0.81,  Train Acc: 77.34%,  Val Loss:  0.63,  Val Acc: 79.21%,  Time: 0:00:44 *\n",
            "Iter:    500,  Train Loss:  0.66,  Train Acc: 81.25%,  Val Loss:  0.58,  Val Acc: 81.39%,  Time: 0:01:00 *\n",
            "Iter:    600,  Train Loss:  0.65,  Train Acc: 78.12%,  Val Loss:  0.56,  Val Acc: 82.10%,  Time: 0:01:15 *\n",
            "Iter:    700,  Train Loss:  0.75,  Train Acc: 74.22%,  Val Loss:  0.52,  Val Acc: 83.38%,  Time: 0:01:30 *\n",
            "Iter:    800,  Train Loss:  0.67,  Train Acc: 79.69%,  Val Loss:  0.51,  Val Acc: 83.55%,  Time: 0:01:49 *\n",
            "Iter:    900,  Train Loss:   0.6,  Train Acc: 77.34%,  Val Loss:  0.48,  Val Acc: 84.53%,  Time: 0:02:00 *\n",
            "Iter:   1000,  Train Loss:  0.53,  Train Acc: 78.91%,  Val Loss:  0.47,  Val Acc: 85.04%,  Time: 0:02:17 *\n",
            "Iter:   1100,  Train Loss:  0.53,  Train Acc: 79.69%,  Val Loss:  0.46,  Val Acc: 85.12%,  Time: 0:02:35 *\n",
            "Iter:   1200,  Train Loss:  0.41,  Train Acc: 85.16%,  Val Loss:  0.44,  Val Acc: 85.96%,  Time: 0:02:48 *\n",
            "Iter:   1300,  Train Loss:  0.56,  Train Acc: 82.81%,  Val Loss:  0.44,  Val Acc: 86.24%,  Time: 0:03:02 *\n",
            "Iter:   1400,  Train Loss:  0.64,  Train Acc: 79.69%,  Val Loss:  0.43,  Val Acc: 86.43%,  Time: 0:03:20 *\n",
            "Epoch [2/10]\n",
            "Iter:   1500,  Train Loss:  0.62,  Train Acc: 80.47%,  Val Loss:  0.42,  Val Acc: 86.67%,  Time: 0:03:33 *\n",
            "Iter:   1600,  Train Loss:  0.45,  Train Acc: 84.38%,  Val Loss:  0.41,  Val Acc: 87.02%,  Time: 0:03:50 *\n",
            "Iter:   1700,  Train Loss:  0.47,  Train Acc: 83.59%,  Val Loss:  0.41,  Val Acc: 87.23%,  Time: 0:04:01 *\n",
            "Iter:   1800,  Train Loss:  0.37,  Train Acc: 89.84%,  Val Loss:  0.38,  Val Acc: 88.04%,  Time: 0:04:17 *\n",
            "Iter:   1900,  Train Loss:  0.41,  Train Acc: 85.94%,  Val Loss:  0.38,  Val Acc: 87.97%,  Time: 0:04:35 *\n",
            "Iter:   2000,  Train Loss:  0.47,  Train Acc: 85.16%,  Val Loss:  0.38,  Val Acc: 88.00%,  Time: 0:04:47 *\n",
            "Iter:   2100,  Train Loss:  0.43,  Train Acc: 87.50%,  Val Loss:  0.37,  Val Acc: 88.38%,  Time: 0:05:05 *\n",
            "Iter:   2200,  Train Loss:  0.42,  Train Acc: 87.50%,  Val Loss:  0.36,  Val Acc: 88.91%,  Time: 0:05:18 *\n",
            "Iter:   2300,  Train Loss:  0.34,  Train Acc: 87.50%,  Val Loss:  0.36,  Val Acc: 88.89%,  Time: 0:05:21 \n",
            "Iter:   2400,  Train Loss:  0.46,  Train Acc: 88.28%,  Val Loss:  0.36,  Val Acc: 88.69%,  Time: 0:05:24 \n",
            "Iter:   2500,  Train Loss:  0.25,  Train Acc: 92.97%,  Val Loss:  0.35,  Val Acc: 89.30%,  Time: 0:05:32 *\n",
            "Iter:   2600,  Train Loss:  0.37,  Train Acc: 87.50%,  Val Loss:  0.34,  Val Acc: 89.24%,  Time: 0:05:50 *\n",
            "Iter:   2700,  Train Loss:  0.38,  Train Acc: 89.06%,  Val Loss:  0.34,  Val Acc: 89.41%,  Time: 0:06:03 *\n",
            "Iter:   2800,  Train Loss:  0.46,  Train Acc: 86.72%,  Val Loss:  0.33,  Val Acc: 89.79%,  Time: 0:06:19 *\n",
            "Epoch [3/10]\n",
            "Iter:   2900,  Train Loss:  0.35,  Train Acc: 90.62%,  Val Loss:  0.33,  Val Acc: 89.67%,  Time: 0:06:34 *\n",
            "Iter:   3000,  Train Loss:  0.37,  Train Acc: 89.06%,  Val Loss:  0.33,  Val Acc: 89.69%,  Time: 0:06:37 \n",
            "Iter:   3100,  Train Loss:  0.23,  Train Acc: 92.19%,  Val Loss:  0.33,  Val Acc: 89.80%,  Time: 0:06:48 *\n",
            "Iter:   3200,  Train Loss:  0.37,  Train Acc: 90.62%,  Val Loss:  0.32,  Val Acc: 90.03%,  Time: 0:07:03 *\n",
            "Iter:   3300,  Train Loss:  0.36,  Train Acc: 86.72%,  Val Loss:  0.32,  Val Acc: 90.09%,  Time: 0:07:21 *\n",
            "Iter:   3400,  Train Loss:  0.36,  Train Acc: 88.28%,  Val Loss:  0.32,  Val Acc: 89.99%,  Time: 0:07:24 \n",
            "Iter:   3500,  Train Loss:  0.18,  Train Acc: 96.09%,  Val Loss:  0.31,  Val Acc: 90.47%,  Time: 0:07:33 *\n",
            "Iter:   3600,  Train Loss:  0.15,  Train Acc: 96.88%,  Val Loss:  0.31,  Val Acc: 90.51%,  Time: 0:07:49 *\n",
            "Iter:   3700,  Train Loss:  0.32,  Train Acc: 87.50%,  Val Loss:   0.3,  Val Acc: 90.50%,  Time: 0:08:04 *\n",
            "Iter:   3800,  Train Loss:  0.26,  Train Acc: 91.41%,  Val Loss:   0.3,  Val Acc: 90.38%,  Time: 0:08:21 *\n",
            "Iter:   3900,  Train Loss:   0.3,  Train Acc: 88.28%,  Val Loss:   0.3,  Val Acc: 90.53%,  Time: 0:08:24 \n",
            "Iter:   4000,  Train Loss:  0.19,  Train Acc: 93.75%,  Val Loss:   0.3,  Val Acc: 90.46%,  Time: 0:08:27 \n",
            "Iter:   4100,  Train Loss:  0.32,  Train Acc: 87.50%,  Val Loss:   0.3,  Val Acc: 90.81%,  Time: 0:08:33 *\n",
            "Iter:   4200,  Train Loss:  0.35,  Train Acc: 89.84%,  Val Loss:   0.3,  Val Acc: 90.66%,  Time: 0:08:52 *\n",
            "Epoch [4/10]\n",
            "Iter:   4300,  Train Loss:  0.22,  Train Acc: 91.41%,  Val Loss:   0.3,  Val Acc: 90.95%,  Time: 0:09:04 *\n",
            "Iter:   4400,  Train Loss:  0.16,  Train Acc: 96.09%,  Val Loss:   0.3,  Val Acc: 90.95%,  Time: 0:09:21 *\n",
            "Iter:   4500,  Train Loss:  0.27,  Train Acc: 91.41%,  Val Loss:   0.3,  Val Acc: 90.69%,  Time: 0:09:24 \n",
            "Iter:   4600,  Train Loss:  0.28,  Train Acc: 88.28%,  Val Loss:   0.3,  Val Acc: 90.72%,  Time: 0:09:27 \n",
            "Iter:   4700,  Train Loss:  0.32,  Train Acc: 90.62%,  Val Loss:  0.28,  Val Acc: 91.33%,  Time: 0:09:34 *\n",
            "Iter:   4800,  Train Loss:   0.2,  Train Acc: 93.75%,  Val Loss:  0.28,  Val Acc: 91.47%,  Time: 0:09:37 \n",
            "Iter:   4900,  Train Loss:  0.26,  Train Acc: 93.75%,  Val Loss:  0.29,  Val Acc: 91.26%,  Time: 0:09:40 \n",
            "Iter:   5000,  Train Loss:  0.26,  Train Acc: 93.75%,  Val Loss:  0.29,  Val Acc: 91.18%,  Time: 0:09:43 \n",
            "Iter:   5100,  Train Loss:  0.24,  Train Acc: 90.62%,  Val Loss:  0.28,  Val Acc: 91.39%,  Time: 0:09:46 \n",
            "Iter:   5200,  Train Loss:  0.37,  Train Acc: 88.28%,  Val Loss:  0.28,  Val Acc: 91.45%,  Time: 0:09:51 *\n",
            "Iter:   5300,  Train Loss:  0.17,  Train Acc: 93.75%,  Val Loss:  0.29,  Val Acc: 91.34%,  Time: 0:09:54 \n",
            "Iter:   5400,  Train Loss:  0.43,  Train Acc: 89.84%,  Val Loss:  0.29,  Val Acc: 91.23%,  Time: 0:09:57 \n",
            "Iter:   5500,  Train Loss:  0.19,  Train Acc: 92.19%,  Val Loss:  0.28,  Val Acc: 91.42%,  Time: 0:10:00 \n",
            "Iter:   5600,  Train Loss:  0.14,  Train Acc: 95.31%,  Val Loss:  0.27,  Val Acc: 91.75%,  Time: 0:10:05 *\n",
            "Epoch [5/10]\n",
            "Iter:   5700,  Train Loss:  0.23,  Train Acc: 96.09%,  Val Loss:  0.28,  Val Acc: 91.42%,  Time: 0:10:08 \n",
            "Iter:   5800,  Train Loss: 0.082,  Train Acc: 96.88%,  Val Loss:  0.29,  Val Acc: 91.48%,  Time: 0:10:11 \n",
            "Iter:   5900,  Train Loss:  0.18,  Train Acc: 94.53%,  Val Loss:  0.28,  Val Acc: 91.61%,  Time: 0:10:14 \n",
            "Iter:   6000,  Train Loss:  0.21,  Train Acc: 89.84%,  Val Loss:  0.28,  Val Acc: 91.40%,  Time: 0:10:17 \n",
            "Iter:   6100,  Train Loss:  0.25,  Train Acc: 93.75%,  Val Loss:  0.28,  Val Acc: 91.49%,  Time: 0:10:20 \n",
            "Iter:   6200,  Train Loss:  0.11,  Train Acc: 97.66%,  Val Loss:  0.28,  Val Acc: 91.71%,  Time: 0:10:23 \n",
            "Iter:   6300,  Train Loss:   0.1,  Train Acc: 96.09%,  Val Loss:  0.28,  Val Acc: 91.80%,  Time: 0:10:26 \n",
            "Iter:   6400,  Train Loss: 0.075,  Train Acc: 96.88%,  Val Loss:  0.28,  Val Acc: 91.73%,  Time: 0:10:29 \n",
            "Iter:   6500,  Train Loss:  0.16,  Train Acc: 91.41%,  Val Loss:  0.28,  Val Acc: 91.82%,  Time: 0:10:32 \n",
            "Iter:   6600,  Train Loss:  0.14,  Train Acc: 93.75%,  Val Loss:  0.28,  Val Acc: 91.87%,  Time: 0:10:35 \n",
            "No optimization for a long time, auto-stopping...\n",
            "Test Loss:  0.26,  Test Acc: 92.07%\n",
            "Precision, Recall and F1-Score...\n",
            "               precision    recall  f1-score   support\n",
            "\n",
            "      finance     0.9289    0.8880    0.9080      1000\n",
            "       realty     0.9393    0.9290    0.9341      1000\n",
            "       stocks     0.8637    0.8810    0.8723      1000\n",
            "    education     0.9437    0.9560    0.9498      1000\n",
            "      science     0.8890    0.8810    0.8850      1000\n",
            "      society     0.9025    0.9160    0.9092      1000\n",
            "     politics     0.8786    0.9050    0.8916      1000\n",
            "       sports     0.9807    0.9660    0.9733      1000\n",
            "         game     0.9534    0.9420    0.9477      1000\n",
            "entertainment     0.9309    0.9430    0.9369      1000\n",
            "\n",
            "     accuracy                         0.9207     10000\n",
            "    macro avg     0.9211    0.9207    0.9208     10000\n",
            " weighted avg     0.9211    0.9207    0.9208     10000\n",
            "\n",
            "Confusion Matrix...\n",
            "[[888   9  61   5   9  10  14   1   1   2]\n",
            " [ 11 929  14   2   3  16   6   3   2  14]\n",
            " [ 39  21 881   2  20   1  29   0   5   2]\n",
            " [  1   3   1 956   4  11  11   1   2  10]\n",
            " [  6   6  26  11 881  14  21   0  23  12]\n",
            " [  1   9   3  17   9 916  28   1   6  10]\n",
            " [  7   4  25  12  18  24 905   2   0   3]\n",
            " [  0   4   1   2   3   6   6 966   0  12]\n",
            " [  1   1   5   2  32   5   6   1 942   5]\n",
            " [  2   3   3   4  12  12   4  10   7 943]]\n",
            "Time usage: 0:10:56\n"
          ],
          "name": "stdout"
        }
      ]
    },
    {
      "cell_type": "code",
      "metadata": {
        "id": "CxyhL5wb58NY",
        "colab_type": "code",
        "colab": {}
      },
      "source": [
        ""
      ],
      "execution_count": 0,
      "outputs": []
    }
  ]
}