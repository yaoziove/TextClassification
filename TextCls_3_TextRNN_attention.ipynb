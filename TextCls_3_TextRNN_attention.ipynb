{
  "nbformat": 4,
  "nbformat_minor": 0,
  "metadata": {
    "colab": {
      "name": "TextCls_3_TextRNN_attention.ipynb",
      "provenance": [],
      "collapsed_sections": [],
      "authorship_tag": "ABX9TyP1IlwPUsY8u5QYeCOHnWza",
      "include_colab_link": true
    },
    "kernelspec": {
      "name": "python3",
      "display_name": "Python 3"
    },
    "accelerator": "GPU"
  },
  "cells": [
    {
      "cell_type": "markdown",
      "metadata": {
        "id": "view-in-github",
        "colab_type": "text"
      },
      "source": [
        "<a href=\"https://colab.research.google.com/github/yaoziove/TextClassification/blob/master/TextCls_3_TextRNN_attention.ipynb\" target=\"_parent\"><img src=\"https://colab.research.google.com/assets/colab-badge.svg\" alt=\"Open In Colab\"/></a>"
      ]
    },
    {
      "cell_type": "code",
      "metadata": {
        "id": "wd2YUWs1i239",
        "colab_type": "code",
        "outputId": "62c2112d-5fb6-4224-edac-9ecb2a2a1c72",
        "colab": {
          "base_uri": "https://localhost:8080/",
          "height": 116
        }
      },
      "source": [
        "!git clone https://github.com/yaoziove/TextClassification.git"
      ],
      "execution_count": 0,
      "outputs": [
        {
          "output_type": "stream",
          "text": [
            "Cloning into 'TextClassification'...\n",
            "remote: Enumerating objects: 24, done.\u001b[K\n",
            "remote: Counting objects: 100% (24/24), done.\u001b[K\n",
            "remote: Compressing objects: 100% (23/23), done.\u001b[K\n",
            "remote: Total 24 (delta 5), reused 0 (delta 0), pack-reused 0\u001b[K\n",
            "Unpacking objects: 100% (24/24), done.\n"
          ],
          "name": "stdout"
        }
      ]
    },
    {
      "cell_type": "code",
      "metadata": {
        "id": "IRYNabVp3wQK",
        "colab_type": "code",
        "outputId": "4d48b446-fb05-4bba-c9b4-856313d05bd5",
        "colab": {
          "base_uri": "https://localhost:8080/",
          "height": 33
        }
      },
      "source": [
        "ls"
      ],
      "execution_count": 0,
      "outputs": [
        {
          "output_type": "stream",
          "text": [
            "\u001b[0m\u001b[01;34msample_data\u001b[0m/  \u001b[01;34mTextClassification\u001b[0m/\n"
          ],
          "name": "stdout"
        }
      ]
    },
    {
      "cell_type": "code",
      "metadata": {
        "id": "xP01zY0730X9",
        "colab_type": "code",
        "outputId": "9661b4f3-30df-4265-b546-e8fcc7c272e2",
        "colab": {
          "base_uri": "https://localhost:8080/",
          "height": 33
        }
      },
      "source": [
        "cd TextClassification/"
      ],
      "execution_count": 0,
      "outputs": [
        {
          "output_type": "stream",
          "text": [
            "/content/TextClassification\n"
          ],
          "name": "stdout"
        }
      ]
    },
    {
      "cell_type": "code",
      "metadata": {
        "id": "1EDxl-T033gs",
        "colab_type": "code",
        "outputId": "4e0cc357-b6ad-4f23-cc78-cb7d06fdd78f",
        "colab": {
          "base_uri": "https://localhost:8080/",
          "height": 33
        }
      },
      "source": [
        "ls"
      ],
      "execution_count": 0,
      "outputs": [
        {
          "output_type": "stream",
          "text": [
            "\u001b[0m\u001b[01;34mChinese-Text-Classification-Pytorch\u001b[0m/\n"
          ],
          "name": "stdout"
        }
      ]
    },
    {
      "cell_type": "code",
      "metadata": {
        "id": "nGCaShnyG1YV",
        "colab_type": "code",
        "outputId": "fba54ac1-2fe1-4487-a11d-843a4d13d7ea",
        "colab": {
          "base_uri": "https://localhost:8080/",
          "height": 33
        }
      },
      "source": [
        "cd Chinese-Text-Classification-Pytorch/"
      ],
      "execution_count": 0,
      "outputs": [
        {
          "output_type": "stream",
          "text": [
            "/content/TextClassification/Chinese-Text-Classification-Pytorch\n"
          ],
          "name": "stdout"
        }
      ]
    },
    {
      "cell_type": "code",
      "metadata": {
        "id": "i1_QfNX5G1es",
        "colab_type": "code",
        "outputId": "56762cd6-8bce-4aff-af47-900d9604257e",
        "colab": {
          "base_uri": "https://localhost:8080/",
          "height": 33
        }
      },
      "source": [
        "ls"
      ],
      "execution_count": 0,
      "outputs": [
        {
          "output_type": "stream",
          "text": [
            "LICENSE  links.txt  \u001b[0m\u001b[01;34mmodels\u001b[0m/  README.md  run.py  \u001b[01;34mTHUCNews\u001b[0m/\n"
          ],
          "name": "stdout"
        }
      ]
    },
    {
      "cell_type": "markdown",
      "metadata": {
        "id": "XYI3w2bO3_1X",
        "colab_type": "text"
      },
      "source": [
        "#### 1.Utils\n",
        "data preprocess"
      ]
    },
    {
      "cell_type": "code",
      "metadata": {
        "id": "h-Lxyq_b34ZW",
        "colab_type": "code",
        "colab": {}
      },
      "source": [
        "import os\n",
        "import torch\n",
        "import numpy as np\n",
        "import pickle as pkl\n",
        "from tqdm import tqdm\n",
        "import time \n",
        "from datetime import timedelta\n",
        "\n",
        "MAX_VOCAB_SIZE = 10000   #词表长度限制\n",
        "UNK,PAD = '<UNK>','<PAD>' #未知字，padding字符\n",
        "\n",
        "def build_vocab(file_path,tokenizer,max_size,min_freq):\n",
        "  vocab_dic = {}\n",
        "  with open(file_path,\"r\",encoding=\"utf-8\") as f:\n",
        "    for line in tqdm(f):\n",
        "      line  = line.strip()\n",
        "      if not line:\n",
        "        continue\n",
        "      content = line.split('\\t')[0]\n",
        "      for word in tokenizer(content):\n",
        "        vocab_dic[word] = vocab_dic.get(word,0)+1\n",
        "    vocab_list = sorted([_ for _ in vocab_dic.items() if _[1]>=min_freq],key=lambda x:x[1],reverse=True)[:max_size]\n",
        "    vocab_dic = {word_count[0]:idx for idx,word_count in enumerate(vocab_list)}\n",
        "    vocab_dic.undate({UNK:len(vocab_dic),PAD:len(vocab_dic)+1})\n",
        "  return vocab_dic\n",
        "\n",
        "def build_dataset(config,ues_word):  #ues word 翻译为“词\"\n",
        "  if ues_word:\n",
        "    tokenizer = lambda x:x.split(' ')\n",
        "  else:\n",
        "    tokenizer = lambda x:[y for y in x] #char-leve\n",
        "  \n",
        "  if os.path.exists(config.vocab_path):\n",
        "    vocab = pkl.load(open(config.vocab_path,'rb'))\n",
        "  else:\n",
        "    vocab = build_vocab(config.train_path,tokenizer=tokenizer,max_size=MAX_VOCAB_SIZE,min_freq=1)\n",
        "    pkl.dump(vocab,open(config.vocab_path,'wb'))\n",
        "  print(f\"Vocab size: {len(vocab)}\")\n",
        "\n",
        "  def load_dataset(path, pad_size=32):\n",
        "    contents = []\n",
        "    with open(path, 'r', encoding='UTF-8') as f:\n",
        "      for line in tqdm(f):\n",
        "        lin = line.strip()\n",
        "        if not lin:\n",
        "          continue\n",
        "        content, label = lin.split('\\t')\n",
        "        words_line = []\n",
        "        token = tokenizer(content)\n",
        "        seq_len = len(token)\n",
        "        if pad_size:\n",
        "          if len(token) < pad_size:\n",
        "            token.extend([PAD]*(pad_size-len(token)))\n",
        "          else:\n",
        "            token = token[:pad_size]\n",
        "            seq_len = pad_size\n",
        "        # word to id\n",
        "        for word in token:\n",
        "          words_line.append(vocab.get(word, vocab.get(UNK)))\n",
        "        contents.append((words_line, int(label), seq_len))\n",
        "    return contents\n",
        "  train = load_dataset(config.train_path, config.pad_size)\n",
        "  dev = load_dataset(config.dev_path, config.pad_size)\n",
        "  test = load_dataset(config.test_path, config.pad_size)\n",
        "  return vocab, train, dev, test\n",
        "\n",
        "class DatasetIterater(object):\n",
        "  def __init__(self, batches, batch_size, device):\n",
        "    self.batch_size = batch_size\n",
        "    self.batches = batches\n",
        "    self.n_batches = len(batches) // batch_size\n",
        "    self.residue = False  # 记录batch数量是否为整数\n",
        "    if len(batches) % self.n_batches != 0:\n",
        "      self.residue = True\n",
        "    self.index = 0\n",
        "    self.device = device\n",
        "\n",
        "  def _to_tensor(self, datas):\n",
        "    x = torch.LongTensor([_[0] for _ in datas]).to(self.device)\n",
        "    y = torch.LongTensor([_[1] for _ in datas]).to(self.device)\n",
        "\n",
        "    # pad前的长度(超过pad_size的设为pad_size)\n",
        "    seq_len = torch.LongTensor([_[2] for _ in datas]).to(self.device)\n",
        "    return (x,seq_len),y\n",
        "\n",
        "  def __next__(self):\n",
        "    if self.residue and self.index == self.n_batches:\n",
        "      batches = self.batches[self.index*self.batch_size:len(self.batches)]\n",
        "      self.index += 1\n",
        "      batches = self._to_tensor(batches)\n",
        "      return batches\n",
        "\n",
        "    elif self.index >= self.n_batches:\n",
        "      self.index = 0\n",
        "      raise StopIteration\n",
        "    else:\n",
        "      batches = self.batches[self.index*self.batch_size:(self.index+1)*self.batch_size]\n",
        "      self.index += 1\n",
        "      batches = self._to_tensor(batches)\n",
        "      return batches\n",
        "\n",
        "  def __iter__(self):\n",
        "    return self\n",
        "\n",
        "  def __len__(self):\n",
        "    if self.residue:\n",
        "      return self.n_batches + 1\n",
        "    else:\n",
        "      return self.n_batches\n",
        "\n",
        "def build_iterator(dataset, config):\n",
        "  iter_ = DatasetIterater(dataset, config.batch_size, config.device)\n",
        "  return iter_\n",
        "\n",
        "def get_time_dif(start_time):\n",
        "  \"\"\"获取已使用时间\"\"\"\n",
        "  end_time = time.time()\n",
        "  time_dif = end_time - start_time\n",
        "  return timedelta(seconds=int(round(time_dif)))"
      ],
      "execution_count": 0,
      "outputs": []
    },
    {
      "cell_type": "markdown",
      "metadata": {
        "id": "i2EOPaF5DX8w",
        "colab_type": "text"
      },
      "source": [
        "#### 2.Model 相关"
      ]
    },
    {
      "cell_type": "code",
      "metadata": {
        "id": "oorG02kjvxXW",
        "colab_type": "code",
        "colab": {}
      },
      "source": [
        "import torch\n",
        "import torch.nn as nn\n",
        "import torch.nn.functional as F\n",
        "import numpy as np\n",
        "\n",
        "\n",
        "class Config(object):\n",
        "  \"\"\"配置参数\"\"\"\n",
        "  def __init__(self,dataset,embedding):\n",
        "    self.model_name = 'TextRNN_Att'\n",
        "    self.train_path = dataset + '/data/train.txt'    #训练街\n",
        "    self.dev_path = dataset + '/data/dev.txt'      #验证集\n",
        "    self.test_path = dataset + '/data/test.txt'        #测试集\n",
        "    self.class_list = [x.strip() for x in open(dataset+'/data/class.txt',encoding='utf-8').readlines()]  #类别列表\n",
        "    self.vocab_path = dataset + '/data/vocab.pkl'    #词表\n",
        "    self.save_path = dataset + '/' + self.model_name + '.ckpt'  #模型训练结果\n",
        "    self.log_path = dataset + '/log/' + self.model_name\n",
        "    self.embedding_pretrained = torch.tensor(np.load(dataset + '/data/'+ \n",
        "                    embedding)[\"embeddings\"].astype('float32')) if embedding != 'random' else None\n",
        "    self.device = torch.device('cuda' if torch.cuda.is_available() else 'cpu')\n",
        "\n",
        "    self.dropout = 0.5                    #随机失活\n",
        "    self.require_improvement = 1000             #若超过1000batch效果没提升，则提前结束\n",
        "    self.num_classes = len(self.class_list)         #类别数\n",
        "    self.n_vocab = 0                     #词表大小\n",
        "    self.num_epochs = 10                   #epoch数\n",
        "    self.batch_size = 128\n",
        "    self.pad_size = 32                    #每句话处理成的长度（短填长切）\n",
        "    self.learning_rate = 1e-3               \n",
        "    #字向量维度\n",
        "    self.embed = self.embedding_pretrained.size(1) if self.embedding_pretrained is not None else 300 \n",
        "    self.hidden_size = 256                  #lstm隐藏层尺寸\n",
        "    self.num_layers = 2                    #lstm层数\n",
        "    self.hidden_size2 = 64\n",
        "\n",
        "\n",
        "\n",
        "\"\"\"Attention-Based Bidirectional Long Short-trem Memory Networks for Relation Classification:\n",
        "\n",
        "    1、先将输入经过双向lstm得到输出H:[batch_size,seq_len,hid_dim*2]，初始化w:[hid_dim*2]矩阵\n",
        "    2、将lstm输出H经过非线性激活函数转换为M:[batch_size,seq_len,hid_dim*2]\n",
        "    3、将M与初始化得到的w进行matmul,结果为:[batch_size,seq_len]\n",
        "    4、上一步结果在dim=1（即seq_len上）进行softmax，再unsqueeze(-1)得到alpha:[batch_size,seq_len,1].\n",
        "  得到的结果可以认为是每个时刻的分数\n",
        "    5、将lstm结构输出的H*alpha:[batch_size,seq_len,hid_dim*2]\n",
        "    6、将上一步结果按seq_len求和：[batch_size,hid_dim*2]\n",
        "    7、经过两次线性变换转1：[batch_size,hidden_size2]\n",
        "              2：[batch_size,num_classes]\n",
        "    得到最终类别结果。\n",
        "\"\"\"\n",
        "class Model(nn.Module):\n",
        "  def __init__(self,config):\n",
        "    super(Model,self).__init__()\n",
        "    if config.embedding_pretrained is not None:\n",
        "      self.embedding = nn.Embedding.from_pretrained(config.embedding_pretrained,freeze=False)\n",
        "    else:\n",
        "      self.embedding = nn.Embedding(config.n_vocab,config.embed,padding_idx=config.n_vocab - 1)\n",
        "\n",
        "    #lstm参数（emb_dim,hid_dim,n_layers）\n",
        "    self.lstm = nn.LSTM(config.embed,config.hidden_size,config.num_layers,\n",
        "                bidirectional=True,batch_first=True,dropout=config.dropout)\n",
        "    \n",
        "    self.tanh1=nn.Tanh()\n",
        "    self.w = nn.Parameter(torch.zeros(config.hidden_size*2))\n",
        "    self.tanh2=nn.Tanh()\n",
        "    self.fc1 = nn.Linear(config.hidden_size*2,config.hidden_size2)\n",
        "    self.fc = nn.Linear(config.hidden_size2,config.num_classes)\n",
        "    self.dropout=nn.Dropout(config.dropout)\n",
        "\n",
        "  def forward(self,x):\n",
        "    x,_ = x                     #[batch_size,seq_len]\n",
        "    emb = self.dropout(self.embedding(x))     #[batch_size,seq_len,embeding]=[128,32,300]\n",
        "    #lstm out:[batch_size,seq_len,hidden_size*num_direction]=[128,32,256]\n",
        "    H,_ = self.lstm(emb)      \n",
        "\n",
        "    M = self.tanh1(H)                #[128,32,256]\n",
        "    #dim=1按行SoftMax,行和为1\n",
        "    #对LSTM的输出进行非线性激活后与w进行矩阵相乘，并经行softmax归一化，得到每时刻的分值\n",
        "    alpha = F.softmax(torch.matmul(M,self.w),dim=1).unsqueeze(-1) #[128,32]-->[128,32,1]\n",
        "    #将LSTM的每一时刻的隐层状态乘对应的分值\n",
        "    out = H*alpha                  #[128,32,256]\n",
        "    #求和，得到加权平均后的终极隐层值\n",
        "    out = torch.sum(out,1)             #[128,256]\n",
        "    out = F.relu(out)\n",
        "    out = self.fc1(out)               #[128,64]\n",
        "    out = self.fc(out)               #[batch_size,num_classes]\n",
        "    return out"
      ],
      "execution_count": 0,
      "outputs": []
    },
    {
      "cell_type": "code",
      "metadata": {
        "id": "9qSeGWT9Lbz_",
        "colab_type": "code",
        "outputId": "65e948a8-aad2-4d15-ae48-5264408ed9c4",
        "colab": {
          "base_uri": "https://localhost:8080/",
          "height": 66
        }
      },
      "source": [
        "import torch.nn as nn\n",
        "import torch.nn.functional as F\n",
        "a=torch.rand(2,3,4)\n",
        "b = nn.Tanh()\n",
        "c = b(a)\n",
        "# c.shape\n",
        "\n",
        "w1 = nn.Parameter(torch.zeros(4))\n",
        "t1 = torch.matmul(c,w1)\n",
        "print(t1.shape)\n",
        "t2 = F.softmax(t1,dim=1).unsqueeze(-1)\n",
        "print(t2.shape)\n",
        "t3 = a*t2\n",
        "t3.shape"
      ],
      "execution_count": 0,
      "outputs": [
        {
          "output_type": "stream",
          "text": [
            "torch.Size([2, 3])\n",
            "torch.Size([2, 3, 1])\n"
          ],
          "name": "stdout"
        },
        {
          "output_type": "execute_result",
          "data": {
            "text/plain": [
              "torch.Size([2, 3, 4])"
            ]
          },
          "metadata": {
            "tags": []
          },
          "execution_count": 9
        }
      ]
    },
    {
      "cell_type": "code",
      "metadata": {
        "id": "DytR2Ii1dlQa",
        "colab_type": "code",
        "outputId": "6564195c-7603-4bd9-d893-8056b8e8f25f",
        "colab": {
          "base_uri": "https://localhost:8080/",
          "height": 186
        }
      },
      "source": [
        "!pip install tensorboardX"
      ],
      "execution_count": 0,
      "outputs": [
        {
          "output_type": "stream",
          "text": [
            "Collecting tensorboardX\n",
            "\u001b[?25l  Downloading https://files.pythonhosted.org/packages/35/f1/5843425495765c8c2dd0784a851a93ef204d314fc87bcc2bbb9f662a3ad1/tensorboardX-2.0-py2.py3-none-any.whl (195kB)\n",
            "\r\u001b[K     |█▊                              | 10kB 22.2MB/s eta 0:00:01\r\u001b[K     |███▍                            | 20kB 4.4MB/s eta 0:00:01\r\u001b[K     |█████                           | 30kB 5.7MB/s eta 0:00:01\r\u001b[K     |██████▊                         | 40kB 5.9MB/s eta 0:00:01\r\u001b[K     |████████▍                       | 51kB 5.0MB/s eta 0:00:01\r\u001b[K     |██████████                      | 61kB 5.5MB/s eta 0:00:01\r\u001b[K     |███████████▊                    | 71kB 5.9MB/s eta 0:00:01\r\u001b[K     |█████████████▍                  | 81kB 6.4MB/s eta 0:00:01\r\u001b[K     |███████████████                 | 92kB 6.8MB/s eta 0:00:01\r\u001b[K     |████████████████▊               | 102kB 6.8MB/s eta 0:00:01\r\u001b[K     |██████████████████▍             | 112kB 6.8MB/s eta 0:00:01\r\u001b[K     |████████████████████            | 122kB 6.8MB/s eta 0:00:01\r\u001b[K     |█████████████████████▊          | 133kB 6.8MB/s eta 0:00:01\r\u001b[K     |███████████████████████▌        | 143kB 6.8MB/s eta 0:00:01\r\u001b[K     |█████████████████████████▏      | 153kB 6.8MB/s eta 0:00:01\r\u001b[K     |██████████████████████████▉     | 163kB 6.8MB/s eta 0:00:01\r\u001b[K     |████████████████████████████▌   | 174kB 6.8MB/s eta 0:00:01\r\u001b[K     |██████████████████████████████▏ | 184kB 6.8MB/s eta 0:00:01\r\u001b[K     |███████████████████████████████▉| 194kB 6.8MB/s eta 0:00:01\r\u001b[K     |████████████████████████████████| 204kB 6.8MB/s \n",
            "\u001b[?25hRequirement already satisfied: six in /usr/local/lib/python3.6/dist-packages (from tensorboardX) (1.12.0)\n",
            "Requirement already satisfied: protobuf>=3.8.0 in /usr/local/lib/python3.6/dist-packages (from tensorboardX) (3.10.0)\n",
            "Requirement already satisfied: numpy in /usr/local/lib/python3.6/dist-packages (from tensorboardX) (1.18.4)\n",
            "Requirement already satisfied: setuptools in /usr/local/lib/python3.6/dist-packages (from protobuf>=3.8.0->tensorboardX) (47.1.1)\n",
            "Installing collected packages: tensorboardX\n",
            "Successfully installed tensorboardX-2.0\n"
          ],
          "name": "stdout"
        }
      ]
    },
    {
      "cell_type": "markdown",
      "metadata": {
        "id": "PO8gSPzLDcea",
        "colab_type": "text"
      },
      "source": [
        "#### 3.train and eval"
      ]
    },
    {
      "cell_type": "code",
      "metadata": {
        "id": "lGQMkeTK7pbk",
        "colab_type": "code",
        "colab": {}
      },
      "source": [
        "import numpy as np\n",
        "import torch\n",
        "import torch.nn as nn\n",
        "import torch.nn.functional as F\n",
        "from sklearn import metrics\n",
        "import time\n",
        "from tensorboardX import SummaryWriter\n",
        "\n",
        "#权重初始化，默认Xavier\n",
        "def init_network(model,method='xavier',exclude='embedding',seed=123):\n",
        "  for name,w in model.named_parameters():\n",
        "    if exclude not in name:\n",
        "      if 'weight' in name:\n",
        "        if method == 'xavier':\n",
        "          nn.init.xavier_normal_(w)\n",
        "        elif method == 'kaiming':\n",
        "          nn.init.kaiming_normal_(w)\n",
        "        else:\n",
        "          nn.init.normal_(w)\n",
        "      elif 'bias' in name:\n",
        "        nn.init.constant_(w,0)\n",
        "      else:\n",
        "        pass\n",
        "\n",
        "def train(config,model,train_iter,dev_iter,test_iter):\n",
        "  start_time = time.time()\n",
        "  model.train()\n",
        "  optimizer = torch.optim.Adam(model.parameters(),lr=config.learning_rate)\n",
        "\n",
        "  #学习率指数衰减，每次epoch：学习率 = gamma * 学习率\n",
        "  #scheduler = torch.optim.lr_scheduler.ExponentialLR(optimizer, gamma=0.9)\n",
        "\n",
        "  total_batch = 0             #记录进行到多少batch \n",
        "  dev_best_loss = float('inf')      #验证集最好的loss、\n",
        "  last_improve = 0            #记录上次验证集loss下降的batch数\n",
        "  flag = False              #记录是否很久没有效果提升\n",
        "  writer = SummaryWriter(log_dir=config.log_path+'/'+time.strftime('%m-%d_%H.%M',time.localtime()))\n",
        "\n",
        "  for epoch in range(config.num_epochs):\n",
        "    print('Epoch [{}/{}]'.format(epoch+1,config.num_epochs))\n",
        "    #scheduler.step()           #学习率衰减\n",
        "\n",
        "    for i,(trains,labels) in enumerate(train_iter):\n",
        "      outputs = model(trains)\n",
        "      model.zero_grad()\n",
        "      loss = F.cross_entropy(outputs,labels)\n",
        "      loss.backward()\n",
        "      optimizer.step()\n",
        "\n",
        "      if total_batch % 100 == 0:\n",
        "        #每多少轮输出在训练集和验证集上的效果\n",
        "        true = labels.data.cpu()\n",
        "        predic = torch.max(outputs.data,1)[1].cpu()\n",
        "\n",
        "        train_acc = metrics.accuracy_score(true,predic)\n",
        "        dev_acc,dev_loss = evaluate(config,model,dev_iter)\n",
        "        if dev_loss < dev_best_loss:\n",
        "          dev_best_loss = dev_loss\n",
        "          torch.save(model.state_dict(),config.save_path)\n",
        "          improve = '*'\n",
        "          last_improve = total_batch\n",
        "        else:\n",
        "          improve = ''\n",
        "        time_dif = get_time_dif(start_time)\n",
        "        msg = 'Iter: {0:>6},  Train Loss: {1:>5.2},  Train Acc: {2:>6.2%},  Val Loss: {3:>5.2},  Val Acc: {4:>6.2%},  Time: {5} {6}'\n",
        "        print(msg.format(total_batch, loss.item(), train_acc, dev_loss, dev_acc, time_dif, improve))\n",
        "        writer.add_scalar(\"loss/train\", loss.item(), total_batch)\n",
        "        writer.add_scalar(\"loss/dev\", dev_loss, total_batch)\n",
        "        writer.add_scalar(\"acc/train\", train_acc, total_batch)\n",
        "        writer.add_scalar(\"acc/dev\", dev_acc, total_batch)\n",
        "        model.train()\n",
        "      total_batch += 1\n",
        "      if total_batch - last_improve > config.require_improvement:\n",
        "        # 验证集loss超过1000batch没下降，结束训练\n",
        "        print(\"No optimization for a long time, auto-stopping...\")\n",
        "        flag = True\n",
        "        break\n",
        "    if flag:\n",
        "      break\n",
        "  writer.close()\n",
        "  test(config,model,test_iter)\n",
        "\n",
        "def test(config,model,test_iter):\n",
        "  model.load_state_dict(torch.load(config.save_path))\n",
        "  model.eval()\n",
        "  start_tiem = time.time()\n",
        "  test_acc, test_loss, test_report, test_confusion = evaluate(config,model,test_iter,test=True)\n",
        "  msg = 'Test Loss: {0:>5.2},  Test Acc: {1:>6.2%}'\n",
        "  print(msg.format(test_loss, test_acc))\n",
        "  print(\"Precision, Recall and F1-Score...\")\n",
        "  print(test_report)\n",
        "  print(\"Confusion Matrix...\")\n",
        "  print(test_confusion)\n",
        "  time_dif = get_time_dif(start_time)\n",
        "  print(\"Time usage:\", time_dif)\n",
        "\n",
        "def evaluate(config,model,data_iter,test=False):\n",
        "  model.eval()\n",
        "  loss_total=0\n",
        "  predict_all = np.array([],dtype=int)\n",
        "  labels_all = np.array([],dtype=int)\n",
        "  with torch.no_grad():\n",
        "    for texts,labels in data_iter:\n",
        "      outputs = model(texts)\n",
        "      loss = F.cross_entropy(outputs, labels)\n",
        "      loss_total += loss.item()\n",
        "      labels = labels.data.cpu().numpy()\n",
        "      predic = torch.max(outputs.data,1)[1].cpu()\n",
        "      labels_all = np.append(labels_all,labels)\n",
        "      predict_all = np.append(predict_all,predic)\n",
        "\n",
        "  acc = metrics.accuracy_score(labels_all,predict_all)\n",
        "  if test:\n",
        "    report = metrics.classification_report(labels_all,predict_all,target_names=config.class_list,digits=4)\n",
        "    confusion = metrics.confusion_matrix(labels_all,predict_all)\n",
        "    return acc,loss_total / len(data_iter),report,confusion\n",
        "\n",
        "  return acc,loss_total / len(data_iter)\n"
      ],
      "execution_count": 0,
      "outputs": []
    },
    {
      "cell_type": "code",
      "metadata": {
        "id": "DenvZrigODvR",
        "colab_type": "code",
        "outputId": "0054a1f7-c31d-4d47-9a43-2d1f1c976f22",
        "colab": {
          "base_uri": "https://localhost:8080/",
          "height": 50
        }
      },
      "source": [
        "'''提取预训练词向量'''\n",
        "train_dir = \"./THUCNews/data/train.txt\"\n",
        "vocab_dir = \"./THUCNews/data/vocab.pkl\"\n",
        "pretrain_dir = \"./THUCNews/data/sgns.sogou.word\"\n",
        "emb_dim = 300\n",
        "filename_trimmed_dir = \"./THUCNews/data/embedding_SougouNews.npz\"\n",
        "\n",
        "if os.path.exists(vocab_dir):\n",
        "  word_to_id = pkl.load(open(vocab_dir, 'rb'))\n",
        "else:\n",
        "  tokenizer = lambda x:[y for y in x]  #以字为单位构建词表\n",
        "  word_to_id = build_vocab(train_dir,tokenizer=tokenizer,max_size=MAX_VOCAB_SIZE,min_freq=1)\n",
        "  pkl.dump(word_to_id,open(vocab_dir,'wb'))\n",
        "\n",
        "print(f'shape of word_to_is is {len(word_to_id)}')\n",
        "\n",
        "#通过预训练的词向量来表示词表数据\n",
        "# embeddings = np.random.rand(len(word_to_id),emb_dim)\n",
        "# f = open(pretrain_dir, \"r\", encoding='UTF-8')\n",
        "# for i, line in enumerate(f.readlines()):\n",
        "#   if i == 0:  # 若第一行是标题，则跳过\n",
        "#     continue\n",
        "#   lin = line.strip().split(\" \")\n",
        "#   if lin[0] in word_to_id:\n",
        "#     idx = word_to_id[lin[0]]\n",
        "#     emb = [float(x) for x in lin[1:301]]\n",
        "#     embeddings[idx] = np.asarray(emb, dtype='float32')\n",
        "# f.close()\n",
        "# np.savez_compressed(filename_trimmed_dir, embeddings=embeddings)\n",
        "\n",
        "#载入通过预训练的到的词向量表示\n",
        "embeddings = np.load(filename_trimmed_dir)\n",
        "embeddings = embeddings[\"embeddings\"]\n",
        "print(f'shape of embedding vocab is : {embeddings.shape}')"
      ],
      "execution_count": 0,
      "outputs": [
        {
          "output_type": "stream",
          "text": [
            "shape of word_to_is is 4762\n",
            "shape of embedding vocab is : (4762, 300)\n"
          ],
          "name": "stdout"
        }
      ]
    },
    {
      "cell_type": "code",
      "metadata": {
        "id": "TuaJjoAsRNnU",
        "colab_type": "code",
        "outputId": "2a55e512-3f37-4d39-a929-d2477daa6c7a",
        "colab": {
          "base_uri": "https://localhost:8080/",
          "height": 116
        }
      },
      "source": [
        "dataset = 'THUCNews'\n",
        "embedding = 'embedding_SougouNews.npz'\n",
        "config = Config(dataset,embedding)\n",
        "\n",
        "np.random.seed(1)\n",
        "torch.manual_seed(1)\n",
        "torch.cuda.manual_seed_all(1)\n",
        "torch.backends.cudnn.deterministic = True  # 保证每次结果一样\n",
        "\n",
        "start_time = time.time()\n",
        "print(\"Loading data...\")\n",
        "\n",
        "vocab,train_data,dev_data,test_data = build_dataset(config,False)\n",
        "train_iter = build_iterator(train_data, config)\n",
        "dev_iter = build_iterator(dev_data, config)\n",
        "test_iter = build_iterator(test_data, config)\n",
        "time_dif = get_time_dif(start_time)\n",
        "print(\"Time usage:\", time_dif)"
      ],
      "execution_count": 0,
      "outputs": [
        {
          "output_type": "stream",
          "text": [
            "6126it [00:00, 61254.80it/s]"
          ],
          "name": "stderr"
        },
        {
          "output_type": "stream",
          "text": [
            "Loading data...\n",
            "Vocab size: 4762\n"
          ],
          "name": "stdout"
        },
        {
          "output_type": "stream",
          "text": [
            "180000it [00:03, 57754.41it/s]\n",
            "10000it [00:00, 66014.40it/s]\n",
            "10000it [00:00, 68360.80it/s]"
          ],
          "name": "stderr"
        },
        {
          "output_type": "stream",
          "text": [
            "Time usage: 0:00:03\n"
          ],
          "name": "stdout"
        },
        {
          "output_type": "stream",
          "text": [
            "\n"
          ],
          "name": "stderr"
        }
      ]
    },
    {
      "cell_type": "code",
      "metadata": {
        "id": "FivUvcxHgDwB",
        "colab_type": "code",
        "outputId": "8d33c8d9-e54e-406e-e0e8-fe7d0033d184",
        "colab": {
          "base_uri": "https://localhost:8080/",
          "height": 1000
        }
      },
      "source": [
        "#train\n",
        "config.n_vocab = len(vocab)\n",
        "\n",
        "model = Model(config).to(config.device)\n",
        "init_network(model)\n",
        "print(model.parameters)\n",
        "train(config,model,train_iter,dev_iter,test_iter)"
      ],
      "execution_count": 0,
      "outputs": [
        {
          "output_type": "stream",
          "text": [
            "<bound method Module.parameters of Model(\n",
            "  (embedding): Embedding(4762, 300)\n",
            "  (lstm): LSTM(300, 256, num_layers=2, batch_first=True, dropout=0.5, bidirectional=True)\n",
            "  (tanh1): Tanh()\n",
            "  (tanh2): Tanh()\n",
            "  (fc1): Linear(in_features=512, out_features=64, bias=True)\n",
            "  (fc): Linear(in_features=64, out_features=10, bias=True)\n",
            "  (dropout): Dropout(p=0.5, inplace=False)\n",
            ")>\n",
            "Epoch [1/10]\n",
            "Iter:      0,  Train Loss:   2.3,  Train Acc: 11.72%,  Val Loss:   2.3,  Val Acc:  9.94%,  Time: 0:00:02 *\n",
            "Iter:    100,  Train Loss:  0.69,  Train Acc: 73.44%,  Val Loss:  0.72,  Val Acc: 75.04%,  Time: 0:00:09 *\n",
            "Iter:    200,  Train Loss:  0.87,  Train Acc: 70.31%,  Val Loss:  0.59,  Val Acc: 80.47%,  Time: 0:00:16 *\n",
            "Iter:    300,  Train Loss:  0.46,  Train Acc: 84.38%,  Val Loss:  0.53,  Val Acc: 82.86%,  Time: 0:00:23 *\n",
            "Iter:    400,  Train Loss:  0.61,  Train Acc: 81.25%,  Val Loss:  0.51,  Val Acc: 83.92%,  Time: 0:00:30 *\n",
            "Iter:    500,  Train Loss:  0.48,  Train Acc: 83.59%,  Val Loss:  0.49,  Val Acc: 84.65%,  Time: 0:00:38 *\n",
            "Iter:    600,  Train Loss:   0.5,  Train Acc: 82.03%,  Val Loss:  0.43,  Val Acc: 86.17%,  Time: 0:00:45 *\n",
            "Iter:    700,  Train Loss:   0.5,  Train Acc: 83.59%,  Val Loss:  0.42,  Val Acc: 86.20%,  Time: 0:00:52 *\n",
            "Iter:    800,  Train Loss:  0.38,  Train Acc: 85.94%,  Val Loss:   0.4,  Val Acc: 87.10%,  Time: 0:00:59 *\n",
            "Iter:    900,  Train Loss:  0.44,  Train Acc: 85.94%,  Val Loss:  0.39,  Val Acc: 87.37%,  Time: 0:01:07 *\n",
            "Iter:   1000,  Train Loss:  0.24,  Train Acc: 91.41%,  Val Loss:  0.39,  Val Acc: 87.48%,  Time: 0:01:14 \n",
            "Iter:   1100,  Train Loss:  0.35,  Train Acc: 88.28%,  Val Loss:  0.42,  Val Acc: 86.55%,  Time: 0:01:21 \n",
            "Iter:   1200,  Train Loss:  0.37,  Train Acc: 85.94%,  Val Loss:  0.37,  Val Acc: 88.30%,  Time: 0:01:29 *\n",
            "Iter:   1300,  Train Loss:  0.46,  Train Acc: 82.03%,  Val Loss:  0.38,  Val Acc: 87.97%,  Time: 0:01:36 \n",
            "Iter:   1400,  Train Loss:  0.41,  Train Acc: 87.50%,  Val Loss:  0.35,  Val Acc: 88.69%,  Time: 0:01:43 *\n",
            "Epoch [2/10]\n",
            "Iter:   1500,  Train Loss:  0.43,  Train Acc: 87.50%,  Val Loss:  0.36,  Val Acc: 88.36%,  Time: 0:01:51 \n",
            "Iter:   1600,  Train Loss:  0.38,  Train Acc: 84.38%,  Val Loss:  0.37,  Val Acc: 88.32%,  Time: 0:01:58 \n",
            "Iter:   1700,  Train Loss:  0.32,  Train Acc: 90.62%,  Val Loss:  0.35,  Val Acc: 89.14%,  Time: 0:02:06 *\n",
            "Iter:   1800,  Train Loss:   0.3,  Train Acc: 91.41%,  Val Loss:  0.34,  Val Acc: 89.30%,  Time: 0:02:13 *\n",
            "Iter:   1900,  Train Loss:  0.37,  Train Acc: 86.72%,  Val Loss:  0.33,  Val Acc: 89.41%,  Time: 0:02:21 *\n",
            "Iter:   2000,  Train Loss:  0.37,  Train Acc: 89.84%,  Val Loss:  0.32,  Val Acc: 89.57%,  Time: 0:02:28 *\n",
            "Iter:   2100,  Train Loss:  0.34,  Train Acc: 91.41%,  Val Loss:  0.32,  Val Acc: 89.57%,  Time: 0:02:36 *\n",
            "Iter:   2200,  Train Loss:   0.2,  Train Acc: 90.62%,  Val Loss:  0.32,  Val Acc: 89.70%,  Time: 0:02:43 \n",
            "Iter:   2300,  Train Loss:  0.31,  Train Acc: 90.62%,  Val Loss:  0.32,  Val Acc: 89.77%,  Time: 0:02:51 *\n",
            "Iter:   2400,  Train Loss:  0.31,  Train Acc: 90.62%,  Val Loss:  0.34,  Val Acc: 89.38%,  Time: 0:02:58 \n",
            "Iter:   2500,  Train Loss:  0.21,  Train Acc: 92.19%,  Val Loss:  0.31,  Val Acc: 89.98%,  Time: 0:03:05 *\n",
            "Iter:   2600,  Train Loss:  0.28,  Train Acc: 92.19%,  Val Loss:  0.31,  Val Acc: 89.93%,  Time: 0:03:13 *\n",
            "Iter:   2700,  Train Loss:   0.3,  Train Acc: 92.19%,  Val Loss:  0.31,  Val Acc: 89.76%,  Time: 0:03:20 *\n",
            "Iter:   2800,  Train Loss:  0.37,  Train Acc: 87.50%,  Val Loss:   0.3,  Val Acc: 90.62%,  Time: 0:03:28 *\n",
            "Epoch [3/10]\n",
            "Iter:   2900,  Train Loss:  0.35,  Train Acc: 89.06%,  Val Loss:   0.3,  Val Acc: 90.35%,  Time: 0:03:35 \n",
            "Iter:   3000,  Train Loss:  0.24,  Train Acc: 93.75%,  Val Loss:  0.31,  Val Acc: 89.74%,  Time: 0:03:43 \n",
            "Iter:   3100,  Train Loss:  0.27,  Train Acc: 91.41%,  Val Loss:   0.3,  Val Acc: 90.20%,  Time: 0:03:50 \n",
            "Iter:   3200,  Train Loss:  0.42,  Train Acc: 89.84%,  Val Loss:  0.31,  Val Acc: 90.01%,  Time: 0:03:58 \n",
            "Iter:   3300,  Train Loss:  0.36,  Train Acc: 89.84%,  Val Loss:  0.29,  Val Acc: 90.33%,  Time: 0:04:05 *\n",
            "Iter:   3400,  Train Loss:  0.26,  Train Acc: 91.41%,  Val Loss:  0.29,  Val Acc: 90.62%,  Time: 0:04:13 *\n",
            "Iter:   3500,  Train Loss:  0.22,  Train Acc: 94.53%,  Val Loss:   0.3,  Val Acc: 90.21%,  Time: 0:04:20 \n",
            "Iter:   3600,  Train Loss:   0.2,  Train Acc: 92.97%,  Val Loss:  0.29,  Val Acc: 90.87%,  Time: 0:04:28 *\n",
            "Iter:   3700,  Train Loss:  0.28,  Train Acc: 90.62%,  Val Loss:  0.29,  Val Acc: 90.24%,  Time: 0:04:35 \n",
            "Iter:   3800,  Train Loss:  0.33,  Train Acc: 89.06%,  Val Loss:  0.29,  Val Acc: 90.73%,  Time: 0:04:42 \n",
            "Iter:   3900,  Train Loss:  0.33,  Train Acc: 89.84%,  Val Loss:  0.29,  Val Acc: 90.58%,  Time: 0:04:50 \n",
            "Iter:   4000,  Train Loss:  0.19,  Train Acc: 95.31%,  Val Loss:  0.29,  Val Acc: 90.60%,  Time: 0:04:57 \n",
            "Iter:   4100,  Train Loss:  0.35,  Train Acc: 88.28%,  Val Loss:  0.29,  Val Acc: 90.76%,  Time: 0:05:05 \n",
            "Iter:   4200,  Train Loss:  0.28,  Train Acc: 90.62%,  Val Loss:  0.29,  Val Acc: 90.79%,  Time: 0:05:12 \n",
            "Epoch [4/10]\n",
            "Iter:   4300,  Train Loss:   0.2,  Train Acc: 93.75%,  Val Loss:  0.29,  Val Acc: 90.76%,  Time: 0:05:20 \n",
            "Iter:   4400,  Train Loss:  0.15,  Train Acc: 96.09%,  Val Loss:  0.28,  Val Acc: 90.91%,  Time: 0:05:27 *\n",
            "Iter:   4500,  Train Loss:  0.33,  Train Acc: 89.84%,  Val Loss:  0.28,  Val Acc: 90.79%,  Time: 0:05:35 *\n",
            "Iter:   4600,  Train Loss:  0.18,  Train Acc: 91.41%,  Val Loss:  0.28,  Val Acc: 91.26%,  Time: 0:05:43 *\n",
            "Iter:   4700,  Train Loss:  0.37,  Train Acc: 89.06%,  Val Loss:  0.27,  Val Acc: 91.22%,  Time: 0:05:50 *\n",
            "Iter:   4800,  Train Loss:  0.14,  Train Acc: 96.09%,  Val Loss:  0.27,  Val Acc: 91.45%,  Time: 0:05:58 \n",
            "Iter:   4900,  Train Loss:   0.2,  Train Acc: 94.53%,  Val Loss:  0.28,  Val Acc: 91.09%,  Time: 0:06:05 \n",
            "Iter:   5000,  Train Loss:  0.26,  Train Acc: 91.41%,  Val Loss:  0.29,  Val Acc: 91.10%,  Time: 0:06:13 \n",
            "Iter:   5100,  Train Loss:  0.28,  Train Acc: 92.19%,  Val Loss:  0.27,  Val Acc: 91.35%,  Time: 0:06:20 \n",
            "Iter:   5200,  Train Loss:   0.4,  Train Acc: 89.06%,  Val Loss:  0.27,  Val Acc: 91.39%,  Time: 0:06:28 \n",
            "Iter:   5300,  Train Loss:   0.2,  Train Acc: 92.97%,  Val Loss:  0.27,  Val Acc: 91.47%,  Time: 0:06:35 \n",
            "Iter:   5400,  Train Loss:  0.32,  Train Acc: 88.28%,  Val Loss:  0.28,  Val Acc: 91.41%,  Time: 0:06:43 \n",
            "Iter:   5500,  Train Loss:  0.23,  Train Acc: 89.06%,  Val Loss:  0.27,  Val Acc: 91.38%,  Time: 0:06:50 *\n",
            "Iter:   5600,  Train Loss:  0.12,  Train Acc: 94.53%,  Val Loss:  0.26,  Val Acc: 91.58%,  Time: 0:06:58 *\n",
            "Epoch [5/10]\n",
            "Iter:   5700,  Train Loss:   0.3,  Train Acc: 92.19%,  Val Loss:  0.27,  Val Acc: 91.42%,  Time: 0:07:05 \n",
            "Iter:   5800,  Train Loss:  0.16,  Train Acc: 95.31%,  Val Loss:  0.27,  Val Acc: 91.54%,  Time: 0:07:13 \n",
            "Iter:   5900,  Train Loss:   0.2,  Train Acc: 94.53%,  Val Loss:  0.27,  Val Acc: 91.16%,  Time: 0:07:20 \n",
            "Iter:   6000,  Train Loss:  0.24,  Train Acc: 91.41%,  Val Loss:  0.27,  Val Acc: 91.44%,  Time: 0:07:28 \n",
            "Iter:   6100,  Train Loss:  0.27,  Train Acc: 91.41%,  Val Loss:  0.27,  Val Acc: 91.35%,  Time: 0:07:35 \n",
            "Iter:   6200,  Train Loss:  0.14,  Train Acc: 92.97%,  Val Loss:  0.27,  Val Acc: 91.44%,  Time: 0:07:43 \n",
            "Iter:   6300,  Train Loss:  0.11,  Train Acc: 96.09%,  Val Loss:  0.27,  Val Acc: 91.55%,  Time: 0:07:50 \n",
            "Iter:   6400,  Train Loss:  0.13,  Train Acc: 96.09%,  Val Loss:  0.27,  Val Acc: 91.73%,  Time: 0:07:58 \n",
            "Iter:   6500,  Train Loss:  0.23,  Train Acc: 89.84%,  Val Loss:  0.27,  Val Acc: 91.38%,  Time: 0:08:05 \n",
            "Iter:   6600,  Train Loss:  0.21,  Train Acc: 92.19%,  Val Loss:  0.29,  Val Acc: 91.07%,  Time: 0:08:13 \n",
            "No optimization for a long time, auto-stopping...\n",
            "Test Loss:  0.25,  Test Acc: 91.89%\n",
            "Precision, Recall and F1-Score...\n",
            "               precision    recall  f1-score   support\n",
            "\n",
            "      finance     0.9299    0.8890    0.9090      1000\n",
            "       realty     0.9218    0.9310    0.9264      1000\n",
            "       stocks     0.8522    0.8650    0.8586      1000\n",
            "    education     0.9636    0.9540    0.9588      1000\n",
            "      science     0.8517    0.8960    0.8733      1000\n",
            "      society     0.9133    0.9170    0.9152      1000\n",
            "     politics     0.8880    0.8880    0.8880      1000\n",
            "       sports     0.9868    0.9730    0.9799      1000\n",
            "         game     0.9663    0.9180    0.9415      1000\n",
            "entertainment     0.9238    0.9580    0.9406      1000\n",
            "\n",
            "     accuracy                         0.9189     10000\n",
            "    macro avg     0.9198    0.9189    0.9191     10000\n",
            " weighted avg     0.9198    0.9189    0.9191     10000\n",
            "\n",
            "Confusion Matrix...\n",
            "[[889  23  54   2  12   7   7   2   1   3]\n",
            " [  6 931  30   0   4  11   5   2   0  11]\n",
            " [ 40  18 865   1  40   2  26   1   4   3]\n",
            " [  1   1   1 954   5  16  10   1   2   9]\n",
            " [  2   6  25   4 896  17  20   1  14  15]\n",
            " [  2  16   1  13   5 917  31   0   5  10]\n",
            " [  7   7  31   6  28  18 888   0   2  13]\n",
            " [  1   1   1   4   1   5   7 973   0   7]\n",
            " [  5   2   4   1  52   4   4   2 918   8]\n",
            " [  3   5   3   5   9   7   2   4   4 958]]\n",
            "Time usage: 0:08:26\n"
          ],
          "name": "stdout"
        }
      ]
    },
    {
      "cell_type": "code",
      "metadata": {
        "id": "CxyhL5wb58NY",
        "colab_type": "code",
        "colab": {}
      },
      "source": [
        ""
      ],
      "execution_count": 0,
      "outputs": []
    }
  ]
}